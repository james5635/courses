{
 "cells": [
  {
   "cell_type": "markdown",
   "id": "7b58a17c-cf5f-4c97-bd0e-5cc09b03c043",
   "metadata": {},
   "source": [
    "Positive and negative exponents"
   ]
  },
  {
   "cell_type": "code",
   "execution_count": 1,
   "id": "c736a253-5d87-4cab-9372-3f181a2bb67e",
   "metadata": {},
   "outputs": [
    {
     "name": "stdout",
     "output_type": "stream",
     "text": [
      "10\n",
      "100\n",
      "1000\n",
      "1\n",
      "0.1\n",
      "0.01\n",
      "0.001\n"
     ]
    }
   ],
   "source": [
    "print(10**1)\n",
    "print(10**2)\n",
    "print(10**3)\n",
    "\n",
    "print(10**0)\n",
    "\n",
    "print(10**-1)\n",
    "print(10**-2)\n",
    "print(10**-3)"
   ]
  },
  {
   "cell_type": "markdown",
   "id": "3dace36a-3968-4921-af81-28f74337216d",
   "metadata": {},
   "source": [
    "User input come in as a string. You can find the length of the string"
   ]
  },
  {
   "cell_type": "code",
   "execution_count": 2,
   "id": "c2422552-862b-422e-ac01-09d48119fcf1",
   "metadata": {},
   "outputs": [
    {
     "name": "stdin",
     "output_type": "stream",
     "text": [
      "Enter a number hello\n"
     ]
    },
    {
     "name": "stdout",
     "output_type": "stream",
     "text": [
      "hello\n",
      "5\n"
     ]
    }
   ],
   "source": [
    "text = input(\"Enter a number\")\n",
    "print(text)\n",
    "print(len(text))"
   ]
  },
  {
   "cell_type": "markdown",
   "id": "c19a233c-a5ff-4890-b2bd-b865d0be8a67",
   "metadata": {},
   "source": [
    "Cast input as a float or int variable"
   ]
  },
  {
   "cell_type": "code",
   "execution_count": 3,
   "id": "65b1db69-1a0a-418f-be44-2e49263d96e6",
   "metadata": {},
   "outputs": [
    {
     "name": "stdin",
     "output_type": "stream",
     "text": [
      "Enter a number .23\n"
     ]
    },
    {
     "name": "stdout",
     "output_type": "stream",
     "text": [
      "4.23\n"
     ]
    }
   ],
   "source": [
    "text = input(\"Enter a number\")\n",
    "num = float(text)\n",
    "print(num + 4)"
   ]
  },
  {
   "cell_type": "markdown",
   "id": "6a570bfa-be12-436d-9872-196524dc534e",
   "metadata": {},
   "source": [
    "Now put it altogether"
   ]
  },
  {
   "cell_type": "code",
   "execution_count": 9,
   "id": "30217e48-f902-42ed-ada0-8a1d83b7be97",
   "metadata": {},
   "outputs": [
    {
     "name": "stdin",
     "output_type": "stream",
     "text": [
      "Enter a decimal number to convert:  11.1\n"
     ]
    },
    {
     "name": "stdout",
     "output_type": "stream",
     "text": [
      "The decimal is  11.1\n",
      "The fraction is   11100 / 1000\n",
      "The percent is  1110.0 %\n"
     ]
    }
   ],
   "source": [
    "digits = input(\"Enter a decimal number to convert: \")\n",
    "exponent = int(len(digits) - 1)\n",
    "n=float(digits)\n",
    "numerator = int(n*10**exponent)\n",
    "denominator= 10**exponent\n",
    "percent=n*100\n",
    "print(\"The decimal is \", n)\n",
    "print(\"The fraction is  \", numerator, \"/\", denominator)\n",
    "print(\"The percent is \", percent, \"%\")"
   ]
  }
 ],
 "metadata": {
  "kernelspec": {
   "display_name": "Python 3 (ipykernel)",
   "language": "python",
   "name": "python3"
  },
  "language_info": {
   "codemirror_mode": {
    "name": "ipython",
    "version": 3
   },
   "file_extension": ".py",
   "mimetype": "text/x-python",
   "name": "python",
   "nbconvert_exporter": "python",
   "pygments_lexer": "ipython3",
   "version": "3.13.3"
  }
 },
 "nbformat": 4,
 "nbformat_minor": 5
}
