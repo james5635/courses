{
 "cells": [
  {
   "cell_type": "markdown",
   "id": "bd4f3d33-660b-4933-8091-5b77ab6e6c10",
   "metadata": {},
   "source": [
    "Set up a proportion <br />\n",
    "$\\frac{n1}{d1}=\\frac{n2}{d2}$"
   ]
  },
  {
   "cell_type": "code",
   "execution_count": 1,
   "id": "3f404dd6-95e8-43ad-bf69-223d636eeb39",
   "metadata": {},
   "outputs": [
    {
     "name": "stdout",
     "output_type": "stream",
     "text": [
      "n2 =  8.0\n"
     ]
    }
   ],
   "source": [
    "# put a zero in for the unknown value\n",
    "print(10**1)\n",
    "print(10**1)\n",
    "n1 = 1\n",
    "d1 = 2\n",
    "n2 = 0\n",
    "d2 = 16\n",
    "if n2==0:\n",
    "    answer = d2 * n1 / d1\n",
    "    print(\"n2 = \", answer)\n",
    "\n",
    "if d2 == 0:\n",
    "    answer = n2 * d1 /n1\n",
    "    print(\"d2 = \", answer)"
   ]
  }
 ],
 "metadata": {
  "kernelspec": {
   "display_name": "Python 3 (ipykernel)",
   "language": "python",
   "name": "python3"
  },
  "language_info": {
   "codemirror_mode": {
    "name": "ipython",
    "version": 3
   },
   "file_extension": ".py",
   "mimetype": "text/x-python",
   "name": "python",
   "nbconvert_exporter": "python",
   "pygments_lexer": "ipython3",
   "version": "3.13.3"
  }
 },
 "nbformat": 4,
 "nbformat_minor": 5
}
