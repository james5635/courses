{
 "cells": [
  {
   "cell_type": "markdown",
   "id": "c06e0050-29dc-4035-8f32-dbeabe2c05ed",
   "metadata": {},
   "source": [
    "Solving for x. The variable eq is the equation set equal to zero. This will print an array of solutions."
   ]
  },
  {
   "cell_type": "code",
   "execution_count": 1,
   "id": "5f913bba-adef-40fe-9ab6-30f3931ccf78",
   "metadata": {},
   "outputs": [
    {
     "name": "stdout",
     "output_type": "stream",
     "text": [
      "x =  [2]\n"
     ]
    }
   ],
   "source": [
    "from sympy import symbols\n",
    "from sympy.solvers import solve\n",
    "\n",
    "x = symbols('x')\n",
    "\n",
    "# Put the equation here\n",
    "eq = x -2\n",
    "print(\"x = \", solve (eq,x))\n"
   ]
  },
  {
   "cell_type": "code",
   "execution_count": 3,
   "id": "b33e3405-073b-4f7d-b293-02b4fc6076f8",
   "metadata": {},
   "outputs": [
    {
     "name": "stdout",
     "output_type": "stream",
     "text": [
      "x =  [-1, 1]\n"
     ]
    }
   ],
   "source": [
    "from sympy import symbols\n",
    "from sympy.solvers import solve\n",
    "x = symbols('x')\n",
    "# Put the equation here\n",
    "eq = 2*x**2 -2\n",
    "print(\"x = \", solve(eq, x))"
   ]
  },
  {
   "cell_type": "markdown",
   "id": "e96a7d60-7f78-4173-b8d9-440e52a99e13",
   "metadata": {},
   "source": [
    "Prompy for someone to enter the equation, then solve"
   ]
  },
  {
   "cell_type": "code",
   "execution_count": 22,
   "id": "b8ef0a9b-95ef-4f19-8574-87ef728153fa",
   "metadata": {},
   "outputs": [
    {
     "name": "stdin",
     "output_type": "stream",
     "text": [
      "Enter equation: 0 =  2*x**5 + 22\n"
     ]
    },
    {
     "name": "stdout",
     "output_type": "stream",
     "text": [
      "x =  [-11**(1/5), 11**(1/5)/4 + 11**(1/5)*sqrt(5)/4 + 11**(1/5)*I*sqrt(5/8 - sqrt(5)/8), -11**(1/5)*sqrt(5)/4 + 11**(1/5)/4 - 11**(1/5)*sqrt(5)*I*sqrt(5/8 - sqrt(5)/8)/2 - 11**(1/5)*I*sqrt(5/8 - sqrt(5)/8)/2, 11**(1/5)/4 + 11**(1/5)*sqrt(5/8 - sqrt(5)/8)*sqrt(sqrt(5)/8 + 5/8) - 11**(1/5)*sqrt(5)*I*sqrt(sqrt(5)/8 + 5/8)/4 - 11**(1/5)*I*sqrt(sqrt(5)/8 + 5/8)/4 - 11**(1/5)*I*sqrt(5/8 - sqrt(5)/8)/4 + 11**(1/5)*sqrt(5)*I*sqrt(5/8 - sqrt(5)/8)/4, -11**(1/5)*sqrt(5/8 - sqrt(5)/8)*sqrt(sqrt(5)/8 + 5/8) + 11**(1/5)/4 - 11**(1/5)*I*sqrt(5/8 - sqrt(5)/8)/4 + 11**(1/5)*I*sqrt(sqrt(5)/8 + 5/8)/4 + 11**(1/5)*sqrt(5)*I*sqrt(5/8 - sqrt(5)/8)/4 + 11**(1/5)*sqrt(5)*I*sqrt(sqrt(5)/8 + 5/8)/4]\n"
     ]
    }
   ],
   "source": [
    "from sympy import symbols\n",
    "from sympy.solvers import solve\n",
    "\n",
    "x = symbols('x')\n",
    "eq = input('Enter equation: 0 = ')\n",
    "\n",
    "print('x = ', solve(eq,x))"
   ]
  },
  {
   "cell_type": "markdown",
   "id": "3f759808-22a2-4f3c-b6b0-48f7d98619a5",
   "metadata": {},
   "source": [
    "Doing more with solution"
   ]
  },
  {
   "cell_type": "code",
   "execution_count": 3,
   "id": "e39489e4-bdda-4126-8a09-98de28aa7558",
   "metadata": {},
   "outputs": [
    {
     "name": "stdout",
     "output_type": "stream",
     "text": [
      "x =  2\n"
     ]
    }
   ],
   "source": [
    "from sympy import symbols\n",
    "from sympy.solvers import solve\n",
    "\n",
    "x = symbols('x')\n",
    "\n",
    "# Put the equation here\n",
    "eq = x -2\n",
    "solution = solve (eq,x)\n",
    "print(\"x = \", solution[0])\n"
   ]
  },
  {
   "cell_type": "markdown",
   "id": "1f96cad4-e860-469d-b1bf-89eaa460cd17",
   "metadata": {},
   "source": [
    "Multiple answer"
   ]
  },
  {
   "cell_type": "code",
   "execution_count": 4,
   "id": "3642241d-4693-4018-8376-1e8fc63b1adf",
   "metadata": {},
   "outputs": [
    {
     "name": "stdout",
     "output_type": "stream",
     "text": [
      "x = 2\n"
     ]
    }
   ],
   "source": [
    "from sympy import symbols\n",
    "from sympy.solvers import solve\n",
    "\n",
    "x = symbols('x')\n",
    "eq = x - 2\n",
    "solution = solve(eq, x)\n",
    "\n",
    "for s in solution:\n",
    "    print(\"x =\", s)\n"
   ]
  },
  {
   "cell_type": "markdown",
   "id": "5be7781b-00df-40c2-8fc3-c221df998ec9",
   "metadata": {},
   "source": [
    "Solving in other way"
   ]
  },
  {
   "cell_type": "code",
   "execution_count": 18,
   "id": "2ff2b56d-b47e-4e97-9205-2911b0c7be16",
   "metadata": {},
   "outputs": [
    {
     "name": "stdout",
     "output_type": "stream",
     "text": [
      "x =  -5\n"
     ]
    }
   ],
   "source": [
    "from sympy import *\n",
    "\n",
    "var('x y')\n",
    "\n",
    "first = 2*x + 10\n",
    "\n",
    "eq1 = Eq(first,0)\n",
    "sol = solve(eq1,x)\n",
    "print(\"x = \", sol[0])"
   ]
  },
  {
   "cell_type": "markdown",
   "id": "7e552447-b9fb-4fe4-bfbe-dba118c59774",
   "metadata": {},
   "source": [
    "Factoring"
   ]
  },
  {
   "cell_type": "code",
   "execution_count": 28,
   "id": "02a9a932-3127-4707-a369-375fedf15ae0",
   "metadata": {},
   "outputs": [
    {
     "data": {
      "text/latex": [
       "$\\displaystyle \\left(x - 3\\right) \\left(x - 1\\right) \\left(x + 2\\right)$"
      ],
      "text/plain": [
       "(x - 3)*(x - 1)*(x + 2)"
      ]
     },
     "execution_count": 28,
     "metadata": {},
     "output_type": "execute_result"
    }
   ],
   "source": [
    "import sympy\n",
    "from sympy import *\n",
    "var('x y')\n",
    "\n",
    "# eq = 2*x + 10*y + 4\n",
    "# eq = x**2 -4\n",
    "eq = x**3 - 2*x**2 - 5*x + 6\n",
    "sympy.factor(eq)\n"
   ]
  },
  {
   "cell_type": "markdown",
   "id": "8b015afc-6109-4b36-ac91-642e85b90d02",
   "metadata": {},
   "source": [
    "Explaining how each function works"
   ]
  },
  {
   "cell_type": "code",
   "execution_count": 36,
   "id": "9b4dd51b-2353-4afa-a066-bfbe8276c117",
   "metadata": {},
   "outputs": [],
   "source": [
    "def string_frac(in_string):\n",
    "    if \"/\" in in_string:\n",
    "        nd = in_string.split(\"/\")\n",
    "        n = float(nd[0])\n",
    "        d = float(nd[1])\n",
    "        ans = n/d\n",
    "        return ans\n",
    "    else:\n",
    "        ans = float(in_string)\n",
    "        return ans\n",
    "\n",
    "def one_step_add():\n",
    "    import random\n",
    "    a = random.randint(-4,10)\n",
    "    b = random.randin(2,24)\n",
    "    print('x + ', a , \" = \", b)\n",
    "    ans = float(input(\"x = \"))\n",
    "    answer = b-a\n",
    "    if ans==answer:\n",
    "        print(\"Correct \\n\")\n",
    "    else:\n",
    "        print(\"Try again\")\n",
    "        print(\"The correct answer is\", answer, \"\\n\")\n",
    "def one_step_subtract():\n",
    "    import random\n",
    "    a = random.randint(-19,-1)\n",
    "    b = random.randint(2,24)\n",
    "    print(a, \" + x = \", b)\n",
    "    ans = float(input(\"x = \"))\n",
    "    answer = b-a\n",
    "    if answ == answer:\n",
    "        print(\"Correct! \\n\")\n",
    "    else:\n",
    "        print(\"Try again\")\n",
    "        print(\"The correct answer is \", answer, \"\\n\")\n",
    "def one_step_multi():\n",
    "    import random\n",
    "    a = random.randint(1,11)\n",
    "    b = random.randint(2,24)\n",
    "    print(a, \"x = \", b)\n",
    "    ans_in = input(\"x = \")\n",
    "    answer = b/a\n",
    "    if string_frac(ans_in)== answer:\n",
    "        print(\"Correct! \\n\")\n",
    "    else:\n",
    "        print(\"Try Again\")\n",
    "        print(\"The Correct answer is \", answer, \"\\n\")\n",
    "        "
   ]
  },
  {
   "cell_type": "markdown",
   "id": "d1e329cb-d740-4574-ae74-375904cdfe02",
   "metadata": {},
   "source": [
    "can't do string to fraction"
   ]
  },
  {
   "cell_type": "code",
   "execution_count": 37,
   "id": "fcbf63a0-5d5d-4f90-aefa-90b5db242395",
   "metadata": {},
   "outputs": [
    {
     "name": "stdout",
     "output_type": "stream",
     "text": [
      "0.75\n"
     ]
    }
   ],
   "source": [
    "print(3/4)"
   ]
  },
  {
   "cell_type": "code",
   "execution_count": 39,
   "id": "42f410b1-547c-4dff-aa57-4a2f7a3e12ba",
   "metadata": {},
   "outputs": [
    {
     "name": "stdin",
     "output_type": "stream",
     "text": [
      "fraction =  1.23\n"
     ]
    },
    {
     "name": "stdout",
     "output_type": "stream",
     "text": [
      "1.23\n"
     ]
    }
   ],
   "source": [
    "frac = float(input(\"fraction = \"))\n",
    "print(frac)"
   ]
  }
 ],
 "metadata": {
  "kernelspec": {
   "display_name": "Python 3 (ipykernel)",
   "language": "python",
   "name": "python3"
  },
  "language_info": {
   "codemirror_mode": {
    "name": "ipython",
    "version": 3
   },
   "file_extension": ".py",
   "mimetype": "text/x-python",
   "name": "python",
   "nbconvert_exporter": "python",
   "pygments_lexer": "ipython3",
   "version": "3.13.3"
  }
 },
 "nbformat": 4,
 "nbformat_minor": 5
}
