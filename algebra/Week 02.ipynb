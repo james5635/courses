{
 "cells": [
  {
   "cell_type": "markdown",
   "id": "c06e0050-29dc-4035-8f32-dbeabe2c05ed",
   "metadata": {},
   "source": [
    "Solving for x. The variable eq is the equation set equal to zero. This will print an array of solutions."
   ]
  },
  {
   "cell_type": "code",
   "execution_count": 1,
   "id": "5f913bba-adef-40fe-9ab6-30f3931ccf78",
   "metadata": {},
   "outputs": [
    {
     "name": "stdout",
     "output_type": "stream",
     "text": [
      "x =  [2]\n"
     ]
    }
   ],
   "source": [
    "from sympy import symbols\n",
    "from sympy.solvers import solve\n",
    "\n",
    "x = symbols('x')\n",
    "\n",
    "# Put the equation here\n",
    "eq = x -2\n",
    "print(\"x = \", solve (eq,x))\n"
   ]
  },
  {
   "cell_type": "code",
   "execution_count": 3,
   "id": "b33e3405-073b-4f7d-b293-02b4fc6076f8",
   "metadata": {},
   "outputs": [
    {
     "name": "stdout",
     "output_type": "stream",
     "text": [
      "x =  [-1, 1]\n"
     ]
    }
   ],
   "source": [
    "from sympy import symbols\n",
    "from sympy.solvers import solve\n",
    "x = symbols('x')\n",
    "# Put the equation here\n",
    "eq = 2*x**2 -2\n",
    "print(\"x = \", solve(eq, x))"
   ]
  },
  {
   "cell_type": "markdown",
   "id": "e96a7d60-7f78-4173-b8d9-440e52a99e13",
   "metadata": {},
   "source": [
    "Prompy for someone to enter the equation, then solve"
   ]
  },
  {
   "cell_type": "code",
   "execution_count": 22,
   "id": "b8ef0a9b-95ef-4f19-8574-87ef728153fa",
   "metadata": {},
   "outputs": [
    {
     "name": "stdin",
     "output_type": "stream",
     "text": [
      "Enter equation: 0 =  2*x**5 + 22\n"
     ]
    },
    {
     "name": "stdout",
     "output_type": "stream",
     "text": [
      "x =  [-11**(1/5), 11**(1/5)/4 + 11**(1/5)*sqrt(5)/4 + 11**(1/5)*I*sqrt(5/8 - sqrt(5)/8), -11**(1/5)*sqrt(5)/4 + 11**(1/5)/4 - 11**(1/5)*sqrt(5)*I*sqrt(5/8 - sqrt(5)/8)/2 - 11**(1/5)*I*sqrt(5/8 - sqrt(5)/8)/2, 11**(1/5)/4 + 11**(1/5)*sqrt(5/8 - sqrt(5)/8)*sqrt(sqrt(5)/8 + 5/8) - 11**(1/5)*sqrt(5)*I*sqrt(sqrt(5)/8 + 5/8)/4 - 11**(1/5)*I*sqrt(sqrt(5)/8 + 5/8)/4 - 11**(1/5)*I*sqrt(5/8 - sqrt(5)/8)/4 + 11**(1/5)*sqrt(5)*I*sqrt(5/8 - sqrt(5)/8)/4, -11**(1/5)*sqrt(5/8 - sqrt(5)/8)*sqrt(sqrt(5)/8 + 5/8) + 11**(1/5)/4 - 11**(1/5)*I*sqrt(5/8 - sqrt(5)/8)/4 + 11**(1/5)*I*sqrt(sqrt(5)/8 + 5/8)/4 + 11**(1/5)*sqrt(5)*I*sqrt(5/8 - sqrt(5)/8)/4 + 11**(1/5)*sqrt(5)*I*sqrt(sqrt(5)/8 + 5/8)/4]\n"
     ]
    }
   ],
   "source": [
    "from sympy import symbols\n",
    "from sympy.solvers import solve\n",
    "\n",
    "x = symbols('x')\n",
    "eq = input('Enter equation: 0 = ')\n",
    "\n",
    "print('x = ', solve(eq,x))"
   ]
  },
  {
   "cell_type": "markdown",
   "id": "3f759808-22a2-4f3c-b6b0-48f7d98619a5",
   "metadata": {},
   "source": [
    "Doing more with solution"
   ]
  },
  {
   "cell_type": "code",
   "execution_count": 4,
   "id": "e39489e4-bdda-4126-8a09-98de28aa7558",
   "metadata": {},
   "outputs": [
    {
     "name": "stdout",
     "output_type": "stream",
     "text": [
      "x =  2\n"
     ]
    }
   ],
   "source": [
    "from sympy import symbols\n",
    "from sympy.solvers import solve\n",
    "\n",
    "x = symbols('x')\n",
    "\n",
    "# Put the equation here\n",
    "eq = x -2\n",
    "solution = solve (eq,x)\n",
    "print(\"x = \", solution[0])\n"
   ]
  },
  {
   "cell_type": "markdown",
   "id": "1f96cad4-e860-469d-b1bf-89eaa460cd17",
   "metadata": {},
   "source": [
    "Multiple answer"
   ]
  },
  {
   "cell_type": "code",
   "execution_count": 6,
   "id": "3642241d-4693-4018-8376-1e8fc63b1adf",
   "metadata": {},
   "outputs": [
    {
     "name": "stdout",
     "output_type": "stream",
     "text": [
      "x = 2\n"
     ]
    }
   ],
   "source": [
    "from sympy import symbols\n",
    "from sympy.solvers import solve\n",
    "\n",
    "x = symbols('x')\n",
    "eq = x - 2\n",
    "solution = solve(eq, x)\n",
    "\n",
    "for s in solution:\n",
    "    print(\"x =\", s)\n"
   ]
  },
  {
   "cell_type": "code",
   "execution_count": 7,
   "id": "488db5e2-2186-4d35-a076-5cec61403641",
   "metadata": {
    "editable": true,
    "slideshow": {
     "slide_type": ""
    },
    "tags": []
   },
   "outputs": [
    {
     "name": "stdout",
     "output_type": "stream",
     "text": [
      "\n"
     ]
    }
   ],
   "source": [
    "print()\n",
    "\n",
    "\n"
   ]
  },
  {
   "cell_type": "code",
   "execution_count": null,
   "id": "24d0e88b-dd7d-43cc-ba89-246c65150b03",
   "metadata": {},
   "outputs": [],
   "source": []
  }
 ],
 "metadata": {
  "kernelspec": {
   "display_name": "Python 3 (ipykernel)",
   "language": "python",
   "name": "python3"
  },
  "language_info": {
   "codemirror_mode": {
    "name": "ipython",
    "version": 3
   },
   "file_extension": ".py",
   "mimetype": "text/x-python",
   "name": "python",
   "nbconvert_exporter": "python",
   "pygments_lexer": "ipython3",
   "version": "3.13.3"
  }
 },
 "nbformat": 4,
 "nbformat_minor": 5
}
