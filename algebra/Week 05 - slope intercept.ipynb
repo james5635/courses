{
 "cells": [
  {
   "cell_type": "code",
   "execution_count": 1,
   "id": "e45302ec",
   "metadata": {},
   "outputs": [
    {
     "name": "stdout",
     "output_type": "stream",
     "text": [
      "slope =  3.0\n"
     ]
    }
   ],
   "source": [
    "x1 = 1\n",
    "y1 = 7\n",
    "x2 = 2\n",
    "y2 = 10\n",
    "slope = (y2 - y1)/(x2-x1)\n",
    "print(\"slope = \", slope)"
   ]
  },
  {
   "cell_type": "markdown",
   "id": "0278e6d1",
   "metadata": {},
   "source": [
    "# Developing equation"
   ]
  },
  {
   "cell_type": "code",
   "execution_count": 3,
   "id": "1ac6c618",
   "metadata": {},
   "outputs": [
    {
     "name": "stdout",
     "output_type": "stream",
     "text": [
      "y =  3.0 x +  4.0\n"
     ]
    }
   ],
   "source": [
    "x1 = 1\n",
    "y1 = 7\n",
    "x2 = 2\n",
    "y2 = 10\n",
    "# the slop is m\n",
    "m = (y2 - y1)/(x2-x1)\n",
    "# the y intercept is b\n",
    "b = y1 - m*x1\n",
    "\n",
    "print(\"y = \",m, \"x + \" ,b)"
   ]
  }
 ],
 "metadata": {
  "kernelspec": {
   "display_name": "Python 3",
   "language": "python",
   "name": "python3"
  },
  "language_info": {
   "codemirror_mode": {
    "name": "ipython",
    "version": 3
   },
   "file_extension": ".py",
   "mimetype": "text/x-python",
   "name": "python",
   "nbconvert_exporter": "python",
   "pygments_lexer": "ipython3",
   "version": "3.12.1"
  }
 },
 "nbformat": 4,
 "nbformat_minor": 5
}
