{
 "cells": [
  {
   "cell_type": "markdown",
   "id": "9b0d2167",
   "metadata": {},
   "source": [
    "Simple interest  \n",
    "$ principle \\times rate \\times time = interest$"
   ]
  },
  {
   "cell_type": "code",
   "execution_count": 1,
   "id": "0e1b0401",
   "metadata": {},
   "outputs": [
    {
     "name": "stdout",
     "output_type": "stream",
     "text": [
      "Interest =  150.0\n"
     ]
    }
   ],
   "source": [
    "p = 1000\n",
    "r = .05\n",
    "t = 3\n",
    "interest = p * r * t\n",
    "print(\"Interest = \", interest)\n"
   ]
  },
  {
   "cell_type": "markdown",
   "id": "fe05d971",
   "metadata": {},
   "source": [
    "New Amount = principle + interest "
   ]
  },
  {
   "cell_type": "code",
   "execution_count": 2,
   "id": "ac7fab9e",
   "metadata": {},
   "outputs": [
    {
     "name": "stdout",
     "output_type": "stream",
     "text": [
      "new amount =  1150.0\n"
     ]
    }
   ],
   "source": [
    "p = 1000\n",
    "r = .05\n",
    "t = 3\n",
    "interest = p * r * t\n",
    "a = p + interest\n",
    "print(\"new amount = \", a)\n"
   ]
  },
  {
   "cell_type": "markdown",
   "id": "fe4f3c3f",
   "metadata": {},
   "source": [
    "The algebra for any percent increase  \n",
    "new amount = p + p * r  \n",
    "new amount = p * (1 + r)"
   ]
  },
  {
   "cell_type": "code",
   "execution_count": 5,
   "id": "3bf9990c",
   "metadata": {},
   "outputs": [
    {
     "name": "stdout",
     "output_type": "stream",
     "text": [
      "new amount =  1050.0\n"
     ]
    }
   ],
   "source": [
    "p = 1000\n",
    "r = .05\n",
    "t = 3\n",
    "a = p * ( 1 + r)\n",
    "\n",
    "print(\"new amount = \", a)\n"
   ]
  },
  {
   "cell_type": "markdown",
   "id": "e3fb4a45",
   "metadata": {},
   "source": [
    "Compounding is adding the interest to the principle and then calculating percent increase from this new amount  \n",
    "Original amount = $ P  $  \n",
    "New amount = $ P(1+r)  $    \n",
    "Compounded again = $ P(1+ r)(1+r)  $  \n",
    "Compounded again = $ P(1+r)(1+r) $  \n",
    "and again = $ P(1+r)(1+r)(1+r) = P(1+r)^3 $  "
   ]
  },
  {
   "cell_type": "code",
   "execution_count": null,
   "id": "382aca25",
   "metadata": {},
   "outputs": [
    {
     "name": "stdout",
     "output_type": "stream",
     "text": [
      "new amount =  1157.6250000000002\n"
     ]
    }
   ],
   "source": [
    "p = 1000\n",
    "r = .05\n",
    "t = 3\n",
    "annuity = p * ( 1 + r) ** t\n",
    "\n",
    "print(\"annuity = \", annuity)\n"
   ]
  },
  {
   "cell_type": "markdown",
   "id": "ad90c4c6",
   "metadata": {},
   "source": [
    "When the compounding happens n times per year, here is the formula  \n",
    "$ A = P(1+\\frac{r}{n})^{nt} $"
   ]
  },
  {
   "cell_type": "code",
   "execution_count": null,
   "id": "4541888e",
   "metadata": {},
   "outputs": [
    {
     "name": "stdout",
     "output_type": "stream",
     "text": [
      "new amount =  1161.4722313334678\n"
     ]
    }
   ],
   "source": [
    "p = 1000\n",
    "r = .05\n",
    "t = 3\n",
    "n = 12\n",
    "annuity = p * ( 1 + (r/n)) ** (n*t)\n",
    "\n",
    "print(\"annuity = \", annuity)\n"
   ]
  },
  {
   "cell_type": "markdown",
   "id": "8015362d",
   "metadata": {},
   "source": [
    "the irrational number e"
   ]
  },
  {
   "cell_type": "code",
   "execution_count": 11,
   "id": "c12c5591",
   "metadata": {},
   "outputs": [
    {
     "name": "stdout",
     "output_type": "stream",
     "text": [
      "2.718281828459045\n"
     ]
    }
   ],
   "source": [
    "import math\n",
    "print(math.e)"
   ]
  },
  {
   "cell_type": "markdown",
   "id": "f4fddfa3",
   "metadata": {},
   "source": [
    "Continuous growth: Annuity = $ pe^{rt} $"
   ]
  },
  {
   "cell_type": "code",
   "execution_count": 12,
   "id": "89a28b08",
   "metadata": {},
   "outputs": [
    {
     "name": "stdout",
     "output_type": "stream",
     "text": [
      "1000.0  or  1161.834242728283\n"
     ]
    }
   ],
   "source": [
    "import math\n",
    "p = 1000\n",
    "r = .05\n",
    "t = 3\n",
    "n = 100\n",
    "n_times = p*(1+(r/n)** (n*t))\n",
    "continuous = p*math.e**(r*t)\n",
    "\n",
    "print(n_times, \" or \", continuous)"
   ]
  },
  {
   "cell_type": "markdown",
   "id": "5040dee4",
   "metadata": {},
   "source": [
    "# Mortgage formula\n",
    "monthly payment = $ P\\frac{\\frac{r}{12}(1+\\frac{r}{12})^{12t}}{(1+\\frac{r}{12})^{12t}-1} $"
   ]
  },
  {
   "cell_type": "code",
   "execution_count": 15,
   "id": "ba945e84",
   "metadata": {},
   "outputs": [
    {
     "name": "stdout",
     "output_type": "stream",
     "text": [
      "monthly payment =  1377.79\n"
     ]
    }
   ],
   "source": [
    "import math\n",
    "p = 240000\n",
    "r = .056\n",
    "t = 30\n",
    "\n",
    "numerator = (r/12)*(1+(r/12))** (12*t)\n",
    "denominator = (1+(r/12))**(12*t) -1\n",
    "payment = round(p*numerator/denominator, 2)\n",
    "\n",
    "print(\"monthly payment = \", payment)"
   ]
  },
  {
   "cell_type": "markdown",
   "id": "b7dfdce9",
   "metadata": {},
   "source": [
    "Amortization (mortgage payment schedule)  \n"
   ]
  },
  {
   "cell_type": "code",
   "execution_count": null,
   "id": "f63adc97",
   "metadata": {},
   "outputs": [
    {
     "name": "stdout",
     "output_type": "stream",
     "text": [
      "payment =  1362.69\n",
      "month \t balance \t interest\n",
      "0 \t 240000.0 \t 1100.0\n",
      "24 \t 233351.69 \t 1069.53\n",
      "48 \t 225932.19 \t 1035.52\n",
      "72 \t 217652.04 \t 997.57\n",
      "96 \t 208411.46 \t 955.22\n",
      "120 \t 198098.97 \t 907.95\n",
      "144 \t 186590.25 \t 855.21\n",
      "168 \t 173746.54 \t 796.34\n",
      "192 \t 159412.99 \t 730.64\n",
      "216 \t 143416.81 \t 657.33\n",
      "240 \t 125565.08 \t 575.51\n",
      "264 \t 105642.58 \t 484.2\n",
      "288 \t 83409.15 \t 382.29\n",
      "312 \t 58596.68 \t 268.57\n",
      "336 \t 30906.0 \t 141.65\n",
      "359 \t 1359.74 \t 6.23\n"
     ]
    }
   ],
   "source": [
    "p = 240000.00\n",
    "r = .055\n",
    "t = 30\n",
    "\n",
    "numerator = (r/12)*(1+(r/12))** (12*t)\n",
    "denominator = (1+(r/12))**(12*t) -1\n",
    "payment = round(p*numerator/denominator, 2)\n",
    "\n",
    "print(\"payment = \", payment)\n",
    "\n",
    "balance = p\n",
    "print(\"month \\t balance \\t interest\")\n",
    "for a in range(12*t):\n",
    "    interest = round(balance*r/12, 2)\n",
    "    if a%24 ==0 or a == 359:\n",
    "        print(a, \"\\t\", balance , \"\\t\", interest )\n",
    "    balance = round(balance+ interest - payment ,2)\n"
   ]
  }
 ],
 "metadata": {
  "kernelspec": {
   "display_name": "3.13.5",
   "language": "python",
   "name": "python3"
  },
  "language_info": {
   "codemirror_mode": {
    "name": "ipython",
    "version": 3
   },
   "file_extension": ".py",
   "mimetype": "text/x-python",
   "name": "python",
   "nbconvert_exporter": "python",
   "pygments_lexer": "ipython3",
   "version": "3.13.5"
  }
 },
 "nbformat": 4,
 "nbformat_minor": 5
}
