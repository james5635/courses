{
 "cells": [
  {
   "cell_type": "markdown",
   "id": "4e094bab-fbc0-4c33-8feb-1d1832e40a7c",
   "metadata": {},
   "source": [
    "# Function and a table of (x,y) values"
   ]
  },
  {
   "cell_type": "code",
   "execution_count": 4,
   "id": "d0fe9246-9bad-4f8c-a0a9-b853c01596f1",
   "metadata": {},
   "outputs": [
    {
     "name": "stdout",
     "output_type": "stream",
     "text": [
      "5 , 23\n",
      "x \t y\n",
      "0 \t 3\n",
      "1 \t 7\n",
      "2 \t 11\n",
      "3 \t 15\n",
      "4 \t 19\n",
      "5 \t 23\n",
      "6 \t 27\n",
      "7 \t 31\n",
      "8 \t 35\n",
      "9 \t 39\n",
      "10 \t 43\n"
     ]
    }
   ],
   "source": [
    "x = 5\n",
    "y = 4*x + 3 # The Function\n",
    "print(x, \",\", y )\n",
    "\n",
    "print(\"x \\t y\")\n",
    "for x in range(11): \n",
    "    y = 4*x + 3 # The Function\n",
    "    print(x, \"\\t\",y)"
   ]
  },
  {
   "cell_type": "markdown",
   "id": "478c4c60-2965-4b73-8008-505122e157be",
   "metadata": {},
   "source": [
    "# Defining a Python function"
   ]
  },
  {
   "cell_type": "code",
   "execution_count": 7,
   "id": "a5b0b59e-506e-4fe0-bc60-72a1ec2bd659",
   "metadata": {},
   "outputs": [
    {
     "name": "stdout",
     "output_type": "stream",
     "text": [
      "5 , 23\n",
      "x \t y\n",
      "0 \t 3\n",
      "1 \t 7\n",
      "2 \t 11\n",
      "3 \t 15\n",
      "4 \t 19\n",
      "5 \t 23\n",
      "6 \t 27\n",
      "7 \t 31\n",
      "8 \t 35\n",
      "9 \t 39\n",
      "10 \t 43\n"
     ]
    }
   ],
   "source": [
    "def f(x):\n",
    "    y = 4*x +3\n",
    "    return y\n",
    "print(5, \",\", f(5))\n",
    "\n",
    "print(\"x \\t y\")\n",
    "for x in range(11): \n",
    "    print(x, \"\\t\",f(x))"
   ]
  }
 ],
 "metadata": {
  "kernelspec": {
   "display_name": "Python 3 (ipykernel)",
   "language": "python",
   "name": "python3"
  },
  "language_info": {
   "codemirror_mode": {
    "name": "ipython",
    "version": 3
   },
   "file_extension": ".py",
   "mimetype": "text/x-python",
   "name": "python",
   "nbconvert_exporter": "python",
   "pygments_lexer": "ipython3",
   "version": "3.13.3"
  }
 },
 "nbformat": 4,
 "nbformat_minor": 5
}
