{
 "cells": [
  {
   "cell_type": "markdown",
   "id": "893e85ce",
   "metadata": {},
   "source": [
    "# The modulus (%) finds the remainder"
   ]
  },
  {
   "cell_type": "code",
   "execution_count": 1,
   "id": "8211925b",
   "metadata": {},
   "outputs": [
    {
     "name": "stdout",
     "output_type": "stream",
     "text": [
      "2\n"
     ]
    }
   ],
   "source": [
    "print(5%3)"
   ]
  },
  {
   "cell_type": "markdown",
   "id": "35d4d9ec",
   "metadata": {},
   "source": [
    "# Use the modulus in a loop to find factors"
   ]
  },
  {
   "cell_type": "code",
   "execution_count": 4,
   "id": "fafe26ae",
   "metadata": {},
   "outputs": [
    {
     "name": "stdout",
     "output_type": "stream",
     "text": [
      "1\n",
      "2\n",
      "3\n",
      "4\n",
      "6\n",
      "12\n"
     ]
    }
   ],
   "source": [
    "number = 12\n",
    "for test_factor in range(1,number+1):\n",
    "    if number%test_factor == 0:\n",
    "        print(test_factor)\n"
   ]
  },
  {
   "cell_type": "markdown",
   "id": "d1825de4",
   "metadata": {},
   "source": [
    "# Reduce fractions to lowest terms"
   ]
  },
  {
   "cell_type": "code",
   "execution_count": 5,
   "id": "292bcc6e",
   "metadata": {},
   "outputs": [
    {
     "name": "stdout",
     "output_type": "stream",
     "text": [
      "original:  12 / 24\n",
      "reduced:  1 / 2\n"
     ]
    }
   ],
   "source": [
    "numerator = 12\n",
    "denominator = 24\n",
    "factor = 1\n",
    "\n",
    "for test_factor in range(1, denominator + 1):\n",
    "    if numerator % test_factor == 0 and denominator % test_factor == 0:\n",
    "        factor = test_factor\n",
    "\n",
    "n = int(numerator/factor)\n",
    "d = int (denominator/factor)\n",
    "\n",
    "print('original: ', numerator,\"/\",  denominator)\n",
    "print(\"reduced: \", n ,\"/\", d)"
   ]
  },
  {
   "cell_type": "markdown",
   "id": "60b24d22",
   "metadata": {},
   "source": [
    "# You can add this code to the decimal-to-fraction code"
   ]
  },
  {
   "cell_type": "code",
   "execution_count": 8,
   "id": "a099915a",
   "metadata": {},
   "outputs": [
    {
     "name": "stdout",
     "output_type": "stream",
     "text": [
      "The decimal is:  1.55\n",
      "The fraction is :  31 / 20\n"
     ]
    }
   ],
   "source": [
    "digits = input(\"Enter a decimal number to convert: \")\n",
    "exponent = int(len(digits)) - 1\n",
    "n = float(digits)\n",
    "numerator = int(n * 10**exponent)\n",
    "denominator = 10**exponent\n",
    "\n",
    "factor = 1\n",
    "for test_factor in range(1, denominator + 1):\n",
    "    if numerator % test_factor == 0 and denominator % test_factor == 0:\n",
    "        factor = test_factor\n",
    "\n",
    "num = int(numerator / factor)\n",
    "den = int(denominator / factor)\n",
    "\n",
    "print(\"The decimal is: \", n)\n",
    "print(\"The fraction is : \", num, \"/\", den)\n"
   ]
  },
  {
   "cell_type": "markdown",
   "id": "47a8006a",
   "metadata": {},
   "source": [
    "# Next level... factoring square roots"
   ]
  },
  {
   "cell_type": "code",
   "execution_count": 9,
   "id": "cb6b240c",
   "metadata": {},
   "outputs": [
    {
     "name": "stdout",
     "output_type": "stream",
     "text": [
      "5.0\n"
     ]
    }
   ],
   "source": [
    "import math\n",
    "print(math.sqrt(25))"
   ]
  },
  {
   "cell_type": "markdown",
   "id": "e6d772e0",
   "metadata": {},
   "source": [
    "divide out any perfect square factors. For example:\n",
    "$$\\sqrt{12} = \\sqrt{4 * 3} = 2\\sqrt{3}$$\n",
    "Because 4 is a square number, the square root of 4 is now outside the radical"
   ]
  },
  {
   "cell_type": "code",
   "execution_count": 1,
   "id": "b553dd5c",
   "metadata": {},
   "outputs": [
    {
     "name": "stdout",
     "output_type": "stream",
     "text": [
      "n =  12\n",
      "Square rooted factor =  2\n",
      "Square factor =  4\n",
      "Integer:  3.0\n"
     ]
    }
   ],
   "source": [
    "import math\n",
    "n = 12\n",
    "max_factor = 1\n",
    "upper_limit = math.floor(math.sqrt(n)) + 1\n",
    "for maybe_factor in range(1, upper_limit):\n",
    "    if n % (maybe_factor**2) == 0:\n",
    "        max_factor = maybe_factor\n",
    "print(\"n = \", n)\n",
    "print(\"Square rooted factor = \", max_factor)\n",
    "print(\"Square factor = \", max_factor**2)\n",
    "print(\"Integer: \", n/(max_factor**2))"
   ]
  },
  {
   "cell_type": "markdown",
   "id": "65677f3e",
   "metadata": {},
   "source": [
    "# Use sympy to make this look nice"
   ]
  },
  {
   "cell_type": "code",
   "execution_count": null,
   "id": "2ad3d850",
   "metadata": {},
   "outputs": [
    {
     "data": {
      "text/latex": [
       "$\\displaystyle 2 \\sqrt{3}$"
      ],
      "text/plain": [
       "2*sqrt(3)"
      ]
     },
     "execution_count": 7,
     "metadata": {},
     "output_type": "execute_result"
    }
   ],
   "source": [
    "import math\n",
    "import sympy\n",
    "n = 12\n",
    "upper_limit = math.floor(math.sqrt(n)) + 1\n",
    "max_factor = 1\n",
    "other_factor = 1\n",
    "square_root = 1\n",
    "\n",
    "for maybe_factor in range(1, upper_limit+1):\n",
    "    if n%(maybe_factor**2) == 0:\n",
    "        max_factor = maybe_factor ** 2\n",
    "\n",
    "other_factor = n/max_factor\n",
    "\n",
    "square_root = int(math.sqrt(max_factor))\n",
    "other_factor = int(other_factor)\n",
    "output = square_root*sympy.sqrt(other_factor)\n",
    "\n",
    "output\n"
   ]
  }
 ],
 "metadata": {
  "kernelspec": {
   "display_name": "Python 3",
   "language": "python",
   "name": "python3"
  },
  "language_info": {
   "codemirror_mode": {
    "name": "ipython",
    "version": 3
   },
   "file_extension": ".py",
   "mimetype": "text/x-python",
   "name": "python",
   "nbconvert_exporter": "python",
   "pygments_lexer": "ipython3",
   "version": "3.13.5"
  }
 },
 "nbformat": 4,
 "nbformat_minor": 5
}
