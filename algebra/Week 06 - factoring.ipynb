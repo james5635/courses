{
  "cells": [
    {
      "cell_type": "markdown",
      "id": "893e85ce",
      "metadata": {
        "id": "893e85ce"
      },
      "source": [
        "# The modulus (%) finds the remainder"
      ]
    },
    {
      "cell_type": "code",
      "execution_count": null,
      "id": "8211925b",
      "metadata": {
        "id": "8211925b",
        "outputId": "a2fbec73-e5f9-44a8-a175-67e54c66afa2"
      },
      "outputs": [
        {
          "name": "stdout",
          "output_type": "stream",
          "text": [
            "2\n"
          ]
        }
      ],
      "source": [
        "print(5%3)"
      ]
    },
    {
      "cell_type": "markdown",
      "id": "35d4d9ec",
      "metadata": {
        "id": "35d4d9ec"
      },
      "source": [
        "# Use the modulus in a loop to find factors"
      ]
    },
    {
      "cell_type": "code",
      "execution_count": null,
      "id": "fafe26ae",
      "metadata": {
        "id": "fafe26ae",
        "outputId": "89c0f876-3de4-41c7-fd35-0551ae26b914"
      },
      "outputs": [
        {
          "name": "stdout",
          "output_type": "stream",
          "text": [
            "1\n",
            "2\n",
            "3\n",
            "4\n",
            "6\n",
            "12\n"
          ]
        }
      ],
      "source": [
        "number = 12\n",
        "for test_factor in range(1,number+1):\n",
        "    if number%test_factor == 0:\n",
        "        print(test_factor)\n"
      ]
    },
    {
      "cell_type": "markdown",
      "id": "d1825de4",
      "metadata": {
        "id": "d1825de4"
      },
      "source": [
        "# Reduce fractions to lowest terms"
      ]
    },
    {
      "cell_type": "code",
      "execution_count": null,
      "id": "292bcc6e",
      "metadata": {
        "id": "292bcc6e",
        "outputId": "de629858-26ed-4792-bddb-aa5d2f230694"
      },
      "outputs": [
        {
          "name": "stdout",
          "output_type": "stream",
          "text": [
            "original:  12 / 24\n",
            "reduced:  1 / 2\n"
          ]
        }
      ],
      "source": [
        "numerator = 12\n",
        "denominator = 24\n",
        "factor = 1\n",
        "\n",
        "for test_factor in range(1, denominator + 1):\n",
        "    if numerator % test_factor == 0 and denominator % test_factor == 0:\n",
        "        factor = test_factor\n",
        "\n",
        "n = int(numerator/factor)\n",
        "d = int (denominator/factor)\n",
        "\n",
        "print('original: ', numerator,\"/\",  denominator)\n",
        "print(\"reduced: \", n ,\"/\", d)"
      ]
    },
    {
      "cell_type": "markdown",
      "id": "60b24d22",
      "metadata": {
        "id": "60b24d22"
      },
      "source": [
        "# You can add this code to the decimal-to-fraction code"
      ]
    },
    {
      "cell_type": "code",
      "execution_count": null,
      "id": "a099915a",
      "metadata": {
        "id": "a099915a",
        "outputId": "804bc6d1-62f6-4b04-dd5b-966bb31e5780"
      },
      "outputs": [
        {
          "name": "stdout",
          "output_type": "stream",
          "text": [
            "The decimal is:  1.55\n",
            "The fraction is :  31 / 20\n"
          ]
        }
      ],
      "source": [
        "digits = input(\"Enter a decimal number to convert: \")\n",
        "exponent = int(len(digits)) - 1\n",
        "n = float(digits)\n",
        "numerator = int(n * 10**exponent)\n",
        "denominator = 10**exponent\n",
        "\n",
        "factor = 1\n",
        "for test_factor in range(1, denominator + 1):\n",
        "    if numerator % test_factor == 0 and denominator % test_factor == 0:\n",
        "        factor = test_factor\n",
        "\n",
        "num = int(numerator / factor)\n",
        "den = int(denominator / factor)\n",
        "\n",
        "print(\"The decimal is: \", n)\n",
        "print(\"The fraction is : \", num, \"/\", den)\n"
      ]
    },
    {
      "cell_type": "markdown",
      "id": "47a8006a",
      "metadata": {
        "id": "47a8006a"
      },
      "source": [
        "# Next level... factoring square roots"
      ]
    },
    {
      "cell_type": "code",
      "execution_count": null,
      "id": "cb6b240c",
      "metadata": {
        "id": "cb6b240c",
        "outputId": "23f95b37-ae2f-441b-f30f-2a4e57500094"
      },
      "outputs": [
        {
          "name": "stdout",
          "output_type": "stream",
          "text": [
            "5.0\n"
          ]
        }
      ],
      "source": [
        "import math\n",
        "print(math.sqrt(25))"
      ]
    },
    {
      "cell_type": "markdown",
      "id": "e6d772e0",
      "metadata": {
        "id": "e6d772e0"
      },
      "source": [
        "divide out any perfect square factors. For example:\n",
        "$$\\sqrt{12} = \\sqrt{4 * 3} = 2\\sqrt{3}$$\n",
        "Because 4 is a square number, the square root of 4 is now outside the radical"
      ]
    },
    {
      "cell_type": "code",
      "execution_count": null,
      "id": "b553dd5c",
      "metadata": {
        "id": "b553dd5c",
        "outputId": "cdc05cdd-1ca0-4abb-ae9b-87e3207f1e2d"
      },
      "outputs": [
        {
          "name": "stdout",
          "output_type": "stream",
          "text": [
            "n =  12\n",
            "Square rooted factor =  2\n",
            "Square factor =  4\n",
            "Integer:  3.0\n"
          ]
        }
      ],
      "source": [
        "import math\n",
        "n = 12\n",
        "max_factor = 1\n",
        "upper_limit = math.floor(math.sqrt(n)) + 1\n",
        "for maybe_factor in range(1, upper_limit):\n",
        "    if n % (maybe_factor**2) == 0:\n",
        "        max_factor = maybe_factor\n",
        "print(\"n = \", n)\n",
        "print(\"Square rooted factor = \", max_factor)\n",
        "print(\"Square factor = \", max_factor**2)\n",
        "print(\"Integer: \", n/(max_factor**2))"
      ]
    },
    {
      "cell_type": "markdown",
      "id": "65677f3e",
      "metadata": {
        "id": "65677f3e"
      },
      "source": [
        "# Use sympy to make this look nice"
      ]
    },
    {
      "cell_type": "code",
      "execution_count": 2,
      "id": "2ad3d850",
      "metadata": {
        "colab": {
          "base_uri": "https://localhost:8080/",
          "height": 38
        },
        "id": "2ad3d850",
        "outputId": "26051478-1bc5-40c1-eb2e-2a773783807f"
      },
      "outputs": [
        {
          "output_type": "execute_result",
          "data": {
            "text/plain": [
              "2*sqrt(3)"
            ],
            "text/latex": "$\\displaystyle 2 \\sqrt{3}$"
          },
          "metadata": {},
          "execution_count": 2
        }
      ],
      "source": [
        "import math\n",
        "import sympy\n",
        "n = 12\n",
        "upper_limit = math.floor(math.sqrt(n)) + 1\n",
        "max_factor = 1\n",
        "other_factor = 1\n",
        "square_root = 1\n",
        "\n",
        "for maybe_factor in range(1, upper_limit+1):\n",
        "    if n%(maybe_factor**2) == 0:\n",
        "        max_factor = maybe_factor ** 2\n",
        "\n",
        "other_factor = n/max_factor\n",
        "\n",
        "square_root = int(math.sqrt(max_factor))\n",
        "other_factor = int(other_factor)\n",
        "output = square_root*sympy.sqrt(other_factor)\n",
        "\n",
        "output\n",
        "\n"
      ]
    }
  ],
  "metadata": {
    "kernelspec": {
      "display_name": "Python 3",
      "language": "python",
      "name": "python3"
    },
    "language_info": {
      "codemirror_mode": {
        "name": "ipython",
        "version": 3
      },
      "file_extension": ".py",
      "mimetype": "text/x-python",
      "name": "python",
      "nbconvert_exporter": "python",
      "pygments_lexer": "ipython3",
      "version": "3.13.5"
    },
    "colab": {
      "provenance": []
    }
  },
  "nbformat": 4,
  "nbformat_minor": 5
}