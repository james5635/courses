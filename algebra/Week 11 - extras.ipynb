{
 "cells": [
  {
   "cell_type": "markdown",
   "id": "a0e220d4",
   "metadata": {},
   "source": [
    "# Slider"
   ]
  },
  {
   "cell_type": "code",
   "execution_count": null,
   "id": "ab0aa225",
   "metadata": {},
   "outputs": [
    {
     "data": {
      "application/vnd.jupyter.widget-view+json": {
       "model_id": "b11a99cef94d4eacaf4ab6e82a26f0cc",
       "version_major": 2,
       "version_minor": 0
      },
      "text/plain": [
       "interactive(children=(IntSlider(value=0, description='a', max=9, min=-9), IntSlider(value=50, description='zoo…"
      ]
     },
     "execution_count": 6,
     "metadata": {},
     "output_type": "execute_result"
    }
   ],
   "source": [
    "%matplotlib inline\n",
    "from ipywidgets import interactive\n",
    "import matplotlib.pyplot as plt\n",
    "import numpy as np\n",
    "def f(a, zoom):\n",
    "    xmin = -zoom\n",
    "    xmax = zoom\n",
    "    ymin = -zoom\n",
    "    ymax = zoom\n",
    "    points = 10 * (xmax - xmin)\n",
    "    x = np.linspace(xmin, xmax, points)\n",
    "\n",
    "    fig, ax = plt.subplots()\n",
    "    plt.axis([xmin, xmax, ymin, ymax])\n",
    "    plt.plot([xmin, xmax], [0, 0], \"b\")\n",
    "    plt.plot([0, 0], [ymin, ymax], \"b\")\n",
    "\n",
    "    y1 = a\n",
    "    y2 = a\n",
    "    plt.plot([xmin,xmax], [y1,y2], 'r')\n",
    "\n",
    "    plt.show()\n",
    "\n",
    "interactive_plot = interactive(f, a= (-9,9), zoom=(1,100))\n",
    "interactive_plot\n"
   ]
  },
  {
   "cell_type": "code",
   "execution_count": null,
   "id": "59af35b1",
   "metadata": {},
   "outputs": [
    {
     "data": {
      "application/vnd.jupyter.widget-view+json": {
       "model_id": "d6332d53f82b4b75b275de8c59755754",
       "version_major": 2,
       "version_minor": 0
      },
      "text/plain": [
       "interactive(children=(IntSlider(value=0, description='m', max=9, min=-9), IntSlider(value=0, description='b', …"
      ]
     },
     "execution_count": 10,
     "metadata": {},
     "output_type": "execute_result"
    }
   ],
   "source": [
    "# Sliders and zoom\n",
    "# y = mx + b\n",
    "\n",
    "%matplotlib inline\n",
    "from ipywidgets import interactive\n",
    "import matplotlib.pyplot as plt\n",
    "import numpy as np\n",
    "\n",
    "\n",
    "def f(m, b, zoom):\n",
    "    xmin = -zoom\n",
    "    xmax = zoom\n",
    "    ymin = -zoom\n",
    "    ymax = zoom\n",
    "    points = 10 * (xmax - xmin)\n",
    "    x = np.linspace(xmin, xmax, points)\n",
    "\n",
    "    fig, ax = plt.subplots()\n",
    "    plt.axis([xmin, xmax, ymin, ymax])\n",
    "    plt.plot([xmin, xmax], [0, 0], \"b\")\n",
    "    plt.plot([0, 0], [ymin, ymax], \"b\")\n",
    "\n",
    "    y1 = m * x + b\n",
    "\n",
    "    plt.plot(x, y1, \"r\")\n",
    "\n",
    "    plt.show()\n",
    "\n",
    "\n",
    "interactive_plot = interactive(f, m=(-9, 9),b=(-9, 9), zoom=(1, 100))\n",
    "interactive_plot\n"
   ]
  },
  {
   "cell_type": "code",
   "execution_count": null,
   "id": "f819060f",
   "metadata": {},
   "outputs": [
    {
     "data": {
      "application/vnd.jupyter.widget-view+json": {
       "model_id": "99a7198e36014df18e49da4e229925db",
       "version_major": 2,
       "version_minor": 0
      },
      "text/plain": [
       "interactive(children=(IntSlider(value=0, description='a', max=9, min=-9), IntSlider(value=0, description='b', …"
      ]
     },
     "execution_count": 13,
     "metadata": {},
     "output_type": "execute_result"
    }
   ],
   "source": [
    "# Sliders and zoom\n",
    "# y = ax**2 + bx + c\n",
    "\n",
    "%matplotlib inline\n",
    "from ipywidgets import interactive\n",
    "import matplotlib.pyplot as plt\n",
    "import numpy as np\n",
    "\n",
    "\n",
    "def f(a, b,c, zoom):\n",
    "    xmin = -zoom\n",
    "    xmax = zoom\n",
    "    ymin = -zoom\n",
    "    ymax = zoom\n",
    "    points = 10 * (xmax - xmin)\n",
    "    x = np.linspace(xmin, xmax, points)\n",
    "\n",
    "    fig, ax = plt.subplots()\n",
    "    plt.axis([xmin, xmax, ymin, ymax])\n",
    "    plt.plot([xmin, xmax], [0, 0], \"b\")\n",
    "    plt.plot([0, 0], [ymin, ymax], \"b\")\n",
    "\n",
    "    y = a*x**2 + b*x + c\n",
    "\n",
    "    plt.plot(x, y, \"r\")\n",
    "\n",
    "    plt.show()\n",
    "\n",
    "\n",
    "interactive_plot = interactive(f, a=(-9, 9),b=(-9, 9),c=(-9, 9), zoom=(1, 100))\n",
    "interactive_plot\n"
   ]
  },
  {
   "cell_type": "code",
   "execution_count": null,
   "id": "120e2b0e",
   "metadata": {},
   "outputs": [
    {
     "data": {
      "application/vnd.jupyter.widget-view+json": {
       "model_id": "91c383c5bc504bf4a4c151c3b9ab8e0a",
       "version_major": 2,
       "version_minor": 0
      },
      "text/plain": [
       "interactive(children=(IntSlider(value=0, description='a', max=9, min=-9), IntSlider(value=0, description='b', …"
      ]
     },
     "execution_count": 14,
     "metadata": {},
     "output_type": "execute_result"
    }
   ],
   "source": [
    "# Sliders and zoom\n",
    "# y = abs(x)\n",
    "\n",
    "%matplotlib inline\n",
    "from ipywidgets import interactive\n",
    "import matplotlib.pyplot as plt\n",
    "import numpy as np\n",
    "\n",
    "\n",
    "def f(a, b,c, zoom):\n",
    "    xmin = -zoom\n",
    "    xmax = zoom\n",
    "    ymin = -zoom\n",
    "    ymax = zoom\n",
    "    points = 10 * (xmax - xmin)\n",
    "    x = np.linspace(xmin, xmax, points)\n",
    "\n",
    "    fig, ax = plt.subplots()\n",
    "    plt.axis([xmin, xmax, ymin, ymax])\n",
    "    plt.plot([xmin, xmax], [0, 0], \"b\")\n",
    "    plt.plot([0, 0], [ymin, ymax], \"b\")\n",
    "\n",
    "    y = a*abs(x-b)  + c\n",
    "\n",
    "    plt.plot(x, y, \"r\")\n",
    "\n",
    "    plt.show()\n",
    "\n",
    "\n",
    "interactive_plot = interactive(f, a=(-9, 9),b=(-9, 9),c=(-9, 9), zoom=(1, 100))\n",
    "interactive_plot\n"
   ]
  },
  {
   "cell_type": "code",
   "execution_count": null,
   "id": "7a505b05",
   "metadata": {},
   "outputs": [
    {
     "data": {
      "application/vnd.jupyter.widget-view+json": {
       "model_id": "0ff572b6b3c74016869eb5db2d3b71f1",
       "version_major": 2,
       "version_minor": 0
      },
      "text/plain": [
       "interactive(children=(IntSlider(value=0, description='a', max=9, min=-9), IntSlider(value=0, description='b', …"
      ]
     },
     "execution_count": 15,
     "metadata": {},
     "output_type": "execute_result"
    }
   ],
   "source": [
    "# Sliders and zoom\n",
    "# y = sqrt(x)\n",
    "\n",
    "%matplotlib inline\n",
    "from ipywidgets import interactive\n",
    "import matplotlib.pyplot as plt\n",
    "import numpy as np\n",
    "\n",
    "\n",
    "def f(a, b,c, zoom):\n",
    "    xmin = -zoom\n",
    "    xmax = zoom\n",
    "    ymin = -zoom\n",
    "    ymax = zoom\n",
    "    points = 10 * (xmax - xmin)\n",
    "    x = np.linspace(xmin, xmax, points)\n",
    "\n",
    "    fig, ax = plt.subplots()\n",
    "    plt.axis([xmin, xmax, ymin, ymax])\n",
    "    plt.plot([xmin, xmax], [0, 0], \"b\")\n",
    "    plt.plot([0, 0], [ymin, ymax], \"b\")\n",
    "\n",
    "    y = a*np.sqrt(x-b)  + c\n",
    "\n",
    "    plt.plot(x, y, \"r\")\n",
    "\n",
    "    plt.show()\n",
    "\n",
    "\n",
    "interactive_plot = interactive(f, a=(-9, 9),b=(-9, 9),c=(-9, 9), zoom=(1, 100))\n",
    "interactive_plot\n"
   ]
  },
  {
   "cell_type": "code",
   "execution_count": null,
   "id": "3c0f3687",
   "metadata": {},
   "outputs": [
    {
     "data": {
      "application/vnd.jupyter.widget-view+json": {
       "model_id": "f40f46e8e15348b29d72be1765bcb37c",
       "version_major": 2,
       "version_minor": 0
      },
      "text/plain": [
       "interactive(children=(IntSlider(value=0, description='a', max=9, min=-9), IntSlider(value=0, description='b', …"
      ]
     },
     "execution_count": 18,
     "metadata": {},
     "output_type": "execute_result"
    }
   ],
   "source": [
    "# Sliders and zoom\n",
    "# y = ax**3 + ...\n",
    "\n",
    "%matplotlib inline\n",
    "from ipywidgets import interactive\n",
    "import matplotlib.pyplot as plt\n",
    "import numpy as np\n",
    "\n",
    "\n",
    "def f(a, b,c,d, zoom):\n",
    "    xmin = -zoom\n",
    "    xmax = zoom\n",
    "    ymin = -zoom\n",
    "    ymax = zoom\n",
    "    points = 10 * (xmax - xmin)\n",
    "    x = np.linspace(xmin, xmax, points)\n",
    "\n",
    "    fig, ax = plt.subplots()\n",
    "    plt.axis([xmin, xmax, ymin, ymax])\n",
    "    plt.plot([xmin, xmax], [0, 0], \"b\")\n",
    "    plt.plot([0, 0], [ymin, ymax], \"b\")\n",
    "\n",
    "    y = a*x**3+ b*x**2+c*x+d\n",
    "\n",
    "    plt.plot(x, y, \"r\")\n",
    "\n",
    "    plt.show()\n",
    "\n",
    "\n",
    "interactive_plot = interactive(f, a=(-9, 9),b=(-9, 9),c=(-9, 9),d=(-9, 9), zoom=(1, 100))\n",
    "interactive_plot\n"
   ]
  },
  {
   "cell_type": "code",
   "execution_count": null,
   "id": "3dfa1160",
   "metadata": {},
   "outputs": [
    {
     "data": {
      "application/vnd.jupyter.widget-view+json": {
       "model_id": "e7520570f03c48ca834f6ae20076db31",
       "version_major": 2,
       "version_minor": 0
      },
      "text/plain": [
       "interactive(children=(IntSlider(value=0, description='a', max=9, min=-9), IntSlider(value=0, description='b', …"
      ]
     },
     "execution_count": 19,
     "metadata": {},
     "output_type": "execute_result"
    }
   ],
   "source": [
    "# Sliders and zoom\n",
    "# y = ax**4 + ...\n",
    "\n",
    "%matplotlib inline\n",
    "from ipywidgets import interactive\n",
    "import matplotlib.pyplot as plt\n",
    "import numpy as np\n",
    "\n",
    "\n",
    "def f(a, b, c, d, e, zoom):\n",
    "    xmin = -zoom\n",
    "    xmax = zoom\n",
    "    ymin = -zoom\n",
    "    ymax = zoom\n",
    "    points = 10 * (xmax - xmin)\n",
    "    x = np.linspace(xmin, xmax, points)\n",
    "\n",
    "    fig, ax = plt.subplots()\n",
    "    plt.axis([xmin, xmax, ymin, ymax])\n",
    "    plt.plot([xmin, xmax], [0, 0], \"b\")\n",
    "    plt.plot([0, 0], [ymin, ymax], \"b\")\n",
    "\n",
    "    y = a * x**4 + b * x**3 + c * x**2 + d * x + e\n",
    "\n",
    "    plt.plot(x, y, \"r\")\n",
    "\n",
    "    plt.show()\n",
    "\n",
    "\n",
    "interactive_plot = interactive(\n",
    "    f, a=(-9, 9), b=(-9, 9), c=(-9, 9), d=(-9, 9), e=(-9, 9), zoom=(1, 100)\n",
    ")\n",
    "interactive_plot\n"
   ]
  },
  {
   "cell_type": "code",
   "execution_count": 22,
   "id": "d6e7f461",
   "metadata": {},
   "outputs": [
    {
     "data": {
      "application/vnd.jupyter.widget-view+json": {
       "model_id": "a04b197234444e3da1444f421695c466",
       "version_major": 2,
       "version_minor": 0
      },
      "text/plain": [
       "interactive(children=(IntSlider(value=0, description='a', max=9, min=-9), IntSlider(value=0, description='b', …"
      ]
     },
     "execution_count": 22,
     "metadata": {},
     "output_type": "execute_result"
    }
   ],
   "source": [
    "# Slider and zoom\n",
    "# y = np.floor(x)\n",
    "\n",
    "%matplotlib inline\n",
    "from ipywidgets import interactive\n",
    "import matplotlib.pyplot as plt\n",
    "import numpy as np\n",
    "\n",
    "\n",
    "def f(a, b, c, zoom):\n",
    "    xmin = -zoom\n",
    "    xmax = zoom\n",
    "    ymin = -zoom\n",
    "    ymax = zoom\n",
    "    points = 10 * (xmax - xmin)\n",
    "    x = np.linspace(xmin, xmax, points)\n",
    "\n",
    "    fig, ax = plt.subplots()\n",
    "    plt.axis([xmin, xmax, ymin, ymax])\n",
    "    plt.plot([xmin, xmax], [0, 0], \"b\")\n",
    "    plt.plot([0, 0], [ymin, ymax], \"b\")\n",
    "\n",
    "    y = a * np.floor(x - b) + c\n",
    "    plt.plot(x, y, \"ro\")\n",
    "\n",
    "    plt.show()\n",
    "\n",
    "\n",
    "interactive_plot = interactive(f, a=(-9, 9),b=(-9, 9),c=(-9, 9), zoom=(1, 100))\n",
    "interactive_plot\n"
   ]
  },
  {
   "cell_type": "code",
   "execution_count": 1,
   "id": "3acd6001",
   "metadata": {},
   "outputs": [
    {
     "data": {
      "application/vnd.jupyter.widget-view+json": {
       "model_id": "32cf337a988c4fb38fcbee397214b8fc",
       "version_major": 2,
       "version_minor": 0
      },
      "text/plain": [
       "interactive(children=(IntSlider(value=0, description='a', max=9, min=-9), IntSlider(value=0, description='b', …"
      ]
     },
     "execution_count": 1,
     "metadata": {},
     "output_type": "execute_result"
    }
   ],
   "source": [
    "# Slider and zoom\n",
    "# y = a*b**(cx-d) + e\n",
    "\n",
    "%matplotlib inline\n",
    "from ipywidgets import interactive\n",
    "import matplotlib.pyplot as plt\n",
    "import numpy as np\n",
    "\n",
    "\n",
    "def f(a, b, c, d, e, zoom):\n",
    "    xmin = -zoom\n",
    "    xmax = zoom\n",
    "    ymin = -zoom\n",
    "    ymax = zoom\n",
    "    points = 10 * (xmax - xmin)\n",
    "    x = np.linspace(xmin, xmax, points)\n",
    "\n",
    "    fig, ax = plt.subplots()\n",
    "    plt.axis([xmin, xmax, ymin, ymax])\n",
    "    plt.plot([xmin, xmax], [0, 0], \"b\")\n",
    "    plt.plot([0, 0], [ymin, ymax], \"b\")\n",
    "\n",
    "    y = a * b ** (c * x - d) + e\n",
    "    plt.plot(x, y, \"r\")\n",
    "\n",
    "    plt.show()\n",
    "\n",
    "\n",
    "interactive_plot = interactive(\n",
    "    f, a=(-9, 9), b=(-9, 9), c=(-9, 9), d=(-9, 9), e=(-9, 9), zoom=(1, 100)\n",
    ")\n",
    "interactive_plot\n"
   ]
  }
 ],
 "metadata": {
  "kernelspec": {
   "display_name": "3.13.5",
   "language": "python",
   "name": "python3"
  },
  "language_info": {
   "codemirror_mode": {
    "name": "ipython",
    "version": 3
   },
   "file_extension": ".py",
   "mimetype": "text/x-python",
   "name": "python",
   "nbconvert_exporter": "python",
   "pygments_lexer": "ipython3",
   "version": "3.13.5"
  }
 },
 "nbformat": 4,
 "nbformat_minor": 5
}
