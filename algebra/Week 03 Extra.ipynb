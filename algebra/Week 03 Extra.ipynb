{
 "cells": [
  {
   "cell_type": "markdown",
   "id": "caf5c325-1f9e-475f-8d70-fa09dad23796",
   "metadata": {},
   "source": [
    "# Propotion"
   ]
  },
  {
   "cell_type": "markdown",
   "id": "3b25cd15-aa77-448d-9922-43555d395c0a",
   "metadata": {},
   "source": [
    "Set up a proportion <br />\n",
    "$\\frac{n1}{d1}=\\frac{n2}{d2}$"
   ]
  },
  {
   "cell_type": "code",
   "execution_count": 1,
   "id": "8049ea69-f483-4236-aa31-f0cef0d0c208",
   "metadata": {},
   "outputs": [
    {
     "name": "stdout",
     "output_type": "stream",
     "text": [
      "n2 =  8.0\n"
     ]
    }
   ],
   "source": [
    "# put a zero in for the unknown value\n",
    "n1 = 1\n",
    "d1 = 2\n",
    "n2 = 0\n",
    "d2 = 16\n",
    "if n2==0:\n",
    "    answer = d2 * n1 / d1\n",
    "    print(\"n2 = \", answer)\n",
    "\n",
    "if d2 == 0:\n",
    "    answer = n2 * d1 /n1\n",
    "    print(\"d2 = \", answer)"
   ]
  },
  {
   "cell_type": "markdown",
   "id": "1a6791dc-de29-44cd-9560-fad2ff70447d",
   "metadata": {
    "jp-MarkdownHeadingCollapsed": true
   },
   "source": [
    "# Solve for x"
   ]
  },
  {
   "cell_type": "code",
   "execution_count": 11,
   "id": "3c79657c-5f37-4292-bfb1-a6fd9c2cc98e",
   "metadata": {},
   "outputs": [
    {
     "name": "stdin",
     "output_type": "stream",
     "text": [
      "Enter equation: 0 =  1\n"
     ]
    }
   ],
   "source": [
    "from sympy import symbols\n",
    "from sympy.solvers import solve\n",
    "\n",
    "x = symbols('x')\n",
    "eq = input(\"Enter equation: 0 = \")\n",
    "solution = solve(eq, symbols('x'))\n",
    "\n",
    "for s in solution:\n",
    "    print(\"x =\", s)\n"
   ]
  },
  {
   "cell_type": "markdown",
   "id": "9515aee2-9e86-4b6d-8b61-c5758753b6b0",
   "metadata": {
    "jp-MarkdownHeadingCollapsed": true
   },
   "source": [
    "# Factor"
   ]
  },
  {
   "cell_type": "code",
   "execution_count": 12,
   "id": "e817df06-9340-469d-9c7a-88d2f7ddaa3b",
   "metadata": {},
   "outputs": [
    {
     "data": {
      "text/latex": [
       "$\\displaystyle \\left(x - 3\\right) \\left(x - 1\\right) \\left(x + 2\\right)$"
      ],
      "text/plain": [
       "(x - 3)*(x - 1)*(x + 2)"
      ]
     },
     "execution_count": 12,
     "metadata": {},
     "output_type": "execute_result"
    }
   ],
   "source": [
    "import sympy\n",
    "from sympy import *\n",
    "var('x y')\n",
    "\n",
    "# eq = 2*x + 10*y + 4\n",
    "# eq = x**2 -4\n",
    "eq = x**3 - 2*x**2 - 5*x + 6\n",
    "sympy.factor(eq)\n"
   ]
  },
  {
   "cell_type": "markdown",
   "id": "7c3f68f0-0462-441f-9197-b36a1b5b02e9",
   "metadata": {
    "jp-MarkdownHeadingCollapsed": true
   },
   "source": [
    "# Convert Decimal to fraction and percent"
   ]
  },
  {
   "cell_type": "code",
   "execution_count": 9,
   "id": "db6cc778-6844-4666-8fb5-3426da350724",
   "metadata": {},
   "outputs": [
    {
     "name": "stdin",
     "output_type": "stream",
     "text": [
      "Enter a decimal number to convert:  11.1\n"
     ]
    },
    {
     "name": "stdout",
     "output_type": "stream",
     "text": [
      "The decimal is  11.1\n",
      "The fraction is   11100 / 1000\n",
      "The percent is  1110.0 %\n"
     ]
    }
   ],
   "source": [
    "digits = input(\"Enter a decimal number to convert: \")\n",
    "exponent = int(len(digits) - 1)\n",
    "n=float(digits)\n",
    "numerator = int(n*10**exponent)\n",
    "denominator= 10**exponent\n",
    "percent=n*100\n",
    "print(\"The decimal is \", n)\n",
    "print(\"The fraction is  \", numerator, \"/\", denominator)\n",
    "print(\"The percent is \", percent, \"%\")"
   ]
  },
  {
   "cell_type": "markdown",
   "id": "a9019fc9-76a0-4a5f-aa74-ace803ef20be",
   "metadata": {
    "jp-MarkdownHeadingCollapsed": true
   },
   "source": [
    "# Factoring and solving for variable"
   ]
  },
  {
   "cell_type": "code",
   "execution_count": 14,
   "id": "fe1a9cf7-81e4-459b-b10b-8c0c174d2ecf",
   "metadata": {},
   "outputs": [
    {
     "name": "stdout",
     "output_type": "stream",
     "text": [
      "x  =  (-b - sqrt(-4*a*c + b**2))/(2*a)\n",
      "x  =  (-b + sqrt(-4*a*c + b**2))/(2*a)\n"
     ]
    }
   ],
   "source": [
    "from sympy import *\n",
    "import math\n",
    "var('a b c d x')\n",
    "left = 0\n",
    "right = a*x**2 + b*x + c\n",
    "variable = x\n",
    "eq1 = Eq(left, right)\n",
    "sol = solve(eq1, variable)\n",
    "for s in sol:\n",
    "    print(variable, \" = \", s)"
   ]
  }
 ],
 "metadata": {
  "kernelspec": {
   "display_name": "Python 3 (ipykernel)",
   "language": "python",
   "name": "python3"
  },
  "language_info": {
   "codemirror_mode": {
    "name": "ipython",
    "version": 3
   },
   "file_extension": ".py",
   "mimetype": "text/x-python",
   "name": "python",
   "nbconvert_exporter": "python",
   "pygments_lexer": "ipython3",
   "version": "3.13.3"
  }
 },
 "nbformat": 4,
 "nbformat_minor": 5
}
