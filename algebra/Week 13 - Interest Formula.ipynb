{
 "cells": [
  {
   "cell_type": "markdown",
   "id": "9f871d36",
   "metadata": {},
   "source": [
    "# Retirement account estimation"
   ]
  },
  {
   "cell_type": "code",
   "execution_count": 1,
   "id": "6ea756bf",
   "metadata": {},
   "outputs": [
    {
     "name": "stdout",
     "output_type": "stream",
     "text": [
      "annuity =  1061597.32\n",
      "Annual income from interest =  84927.79\n"
     ]
    }
   ],
   "source": [
    "p = 1000\n",
    "r = 0.08\n",
    "t = 38\n",
    "monthly = 350\n",
    "annuity = p\n",
    "for a in range(12 * t):\n",
    "    annuity = (annuity + monthly) * (1 + (r / 12))\n",
    "print(\"annuity = \", round(annuity, 2))\n",
    "print(\"Annual income from interest = \", round(annuity * r, 2))"
   ]
  }
 ],
 "metadata": {
  "kernelspec": {
   "display_name": "3.13.5",
   "language": "python",
   "name": "python3"
  },
  "language_info": {
   "codemirror_mode": {
    "name": "ipython",
    "version": 3
   },
   "file_extension": ".py",
   "mimetype": "text/x-python",
   "name": "python",
   "nbconvert_exporter": "python",
   "pygments_lexer": "ipython3",
   "version": "3.13.5"
  }
 },
 "nbformat": 4,
 "nbformat_minor": 5
}
