{
 "cells": [
  {
   "cell_type": "markdown",
   "id": "5aaeedc6",
   "metadata": {},
   "source": [
    "# Solve a quadratic equation"
   ]
  },
  {
   "cell_type": "code",
   "execution_count": null,
   "id": "6e8c264d",
   "metadata": {},
   "outputs": [
    {
     "name": "stdout",
     "output_type": "stream",
     "text": [
      "y =  1 x**2 +  5 x +  6\n",
      "Vertex: (-2.5, -0.25)\n",
      "Roots: x = -2.0 and x = -3.0\n"
     ]
    }
   ],
   "source": [
    "# All quadratic/quadratic equation have vertex, but it may or may not have roots.\n",
    "\n",
    "import math\n",
    "\n",
    "a = 1\n",
    "b = 5\n",
    "c = 6\n",
    "\n",
    "print(\"y = \", a, \"x**2 + \", b, \"x + \", c)\n",
    "\n",
    "# vertix\n",
    "vx = -b / (2 * a)\n",
    "vy = a * (vx**2) + b * vx + c\n",
    "print(f\"Vertex: {vx, vy}\")\n",
    "\n",
    "d = b**2 - 4 * a * c\n",
    "if d >= 0:\n",
    "    root_1 = (-b + math.sqrt(d)) / (2 * a)\n",
    "    root_2 = (-b - math.sqrt(d)) / (2 * a)\n",
    "    print(f\"Roots: x = {root_1} and x = {root_2}\")\n",
    "else:\n",
    "    print(\"No real roots\")\n"
   ]
  },
  {
   "cell_type": "markdown",
   "id": "ae967fb7",
   "metadata": {},
   "source": [
    "# Graph a quadratic function"
   ]
  },
  {
   "cell_type": "code",
   "execution_count": 12,
   "id": "6369aac8",
   "metadata": {},
   "outputs": [
    {
     "name": "stdout",
     "output_type": "stream",
     "text": [
      "y = 2x**2 + 4x + 1\n",
      "Vertex: (-1.0, -1.0)\n",
      "Roots: x = -0.2928932188134524 and x = -1.7071067811865475\n"
     ]
    },
    {
     "data": {
      "image/png": "[encoded data removed]",
      "text/plain": [
       "<Figure size 640x480 with 1 Axes>"
      ]
     },
     "metadata": {},
     "output_type": "display_data"
    }
   ],
   "source": [
    "import matplotlib.pyplot as plt\n",
    "import numpy as np\n",
    "import math\n",
    "\n",
    "a = 2\n",
    "b = 4\n",
    "c = 1\n",
    "\n",
    "print(f\"y = {a}x**2 + {b}x + {c}\")\n",
    "\n",
    "vx = -b / (2 * a)\n",
    "vy = a * (vx**2) + b * vx + c\n",
    "print(f\"Vertex: {vx, vy}\")\n",
    "\n",
    "xmin = -10\n",
    "xmax = 10\n",
    "ymin = -10\n",
    "ymax = 10\n",
    "points = 10 * (xmax - xmin)\n",
    "x = np.linspace(xmin, xmax, points)\n",
    "\n",
    "fig, ax = plt.subplots()\n",
    "plt.axis([xmin, xmax, ymin, ymax])\n",
    "plt.plot([xmin, xmax], [0, 0], \"b\")\n",
    "plt.plot([0, 0], [xmin, xmax], \"b\")\n",
    "\n",
    "y1 = a * x**2 + b * x + c\n",
    "plt.plot(x, y1)\n",
    "\n",
    "plt.plot([vx], [vy], \"ro\")\n",
    "\n",
    "d = b**2 - 4 * a * c\n",
    "if d >= 0:\n",
    "    root_1 = (-b + math.sqrt(d)) / (2 * a)\n",
    "    root_2 = (-b - math.sqrt(d)) / (2 * a)\n",
    "    plt.plot([root_1, root_2], [0, 0], \"go\")\n",
    "    print(f\"Roots: x = {root_1} and x = {root_2}\")\n",
    "else:\n",
    "    print(\"No real roots\")\n",
    "\n",
    "plt.show()"
   ]
  },
  {
   "cell_type": "markdown",
   "id": "f27daa12",
   "metadata": {},
   "source": [
    "# Slider to show how a, b, and c affect the graph"
   ]
  },
  {
   "cell_type": "code",
   "execution_count": 18,
   "id": "5ea61bd6",
   "metadata": {},
   "outputs": [
    {
     "data": {
      "application/vnd.jupyter.widget-view+json": {
       "model_id": "24e41f9b14e84b3cb5408124213229f2",
       "version_major": 2,
       "version_minor": 0
      },
      "text/plain": [
       "interactive(children=(IntSlider(value=5, description='a', max=9, min=1), IntSlider(value=0, description='b', m…"
      ]
     },
     "execution_count": 18,
     "metadata": {},
     "output_type": "execute_result"
    }
   ],
   "source": [
    "%matplotlib inline\n",
    "from ipywidgets import interactive\n",
    "import matplotlib.pyplot as plt\n",
    "import numpy as np\n",
    "import math\n",
    "\n",
    "def f(a,b,c):\n",
    "    print(f\"y = {a}x**2 + {b}x + {c}\")\n",
    "\n",
    "    vx = -b / (2 * a)\n",
    "    vy = a * (vx**2) + b * vx + c\n",
    "    print(f\"Vertex: {vx, vy}\")\n",
    "\n",
    "    xmin = -10\n",
    "    xmax = 10\n",
    "    ymin = -10\n",
    "    ymax = 10\n",
    "    points = 10 * (xmax - xmin)\n",
    "    x = np.linspace(xmin, xmax, points)\n",
    "\n",
    "    fig, ax = plt.subplots()\n",
    "    plt.axis([xmin, xmax, ymin, ymax])\n",
    "    plt.plot([xmin, xmax], [0, 0], \"b\")\n",
    "    plt.plot([0, 0], [xmin, xmax], \"b\")\n",
    "\n",
    "    y1 = a * x**2 + b * x + c\n",
    "    plt.plot(x, y1)\n",
    "\n",
    "    plt.plot([vx], [vy], \"ro\")\n",
    "\n",
    "    d = b**2 - 4 * a * c\n",
    "    if d >= 0:\n",
    "        root_1 = (-b + math.sqrt(d)) / (2 * a)\n",
    "        root_2 = (-b - math.sqrt(d)) / (2 * a)\n",
    "        plt.plot([root_1, root_2], [0, 0], \"go\")\n",
    "        print(f\"Roots: x = {root_1} and x = {root_2}\")\n",
    "    else:\n",
    "        print(\"No real roots\")\n",
    "\n",
    "    \n",
    "    plt.title( f\"y = {a}x**2 + {b}x + {c}\")\n",
    "    plt.show()\n",
    "\n",
    "interactive_plot = interactive(f, a=(1,9), b=(-9,9), c= (-9,9))\n",
    "interactive_plot"
   ]
  }
 ],
 "metadata": {
  "kernelspec": {
   "display_name": "3.13.5",
   "language": "python",
   "name": "python3"
  },
  "language_info": {
   "codemirror_mode": {
    "name": "ipython",
    "version": 3
   },
   "file_extension": ".py",
   "mimetype": "text/x-python",
   "name": "python",
   "nbconvert_exporter": "python",
   "pygments_lexer": "ipython3",
   "version": "3.13.5"
  }
 },
 "nbformat": 4,
 "nbformat_minor": 5
}
