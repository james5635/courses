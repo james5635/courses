


from sympy import symbols
from sympy.solvers import solve

x = symbols('x')

# Put the equation here
eq = x -2
print("x = ", solve (eq,x))



from sympy import symbols
from sympy.solvers import solve
x = symbols('x')
# Put the equation here
eq = 2*x**2 -2
print("x = ", solve(eq, x))





from sympy import symbols
from sympy.solvers import solve

x = symbols('x')
eq = input('Enter equation: 0 = ')

print('x = ', solve(eq,x))





from sympy import symbols
from sympy.solvers import solve

x = symbols('x')

# Put the equation here
eq = x -2
solution = solve (eq,x)
print("x = ", solution[0])






from sympy import symbols
from sympy.solvers import solve

x = symbols('x')
eq = x - 2
solution = solve(eq, x)

for s in solution:
    print("x =", s)



print()






