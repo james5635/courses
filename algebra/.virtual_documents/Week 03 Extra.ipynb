





# put a zero in for the unknown value
n1 = 1
d1 = 2
n2 = 0
d2 = 16
if n2==0:
    answer = d2 * n1 / d1
    print("n2 = ", answer)

if d2 == 0:
    answer = n2 * d1 /n1
    print("d2 = ", answer)





from sympy import symbols
from sympy.solvers import solve

x = symbols('x')
eq = input("Enter equation: 0 = ")
solution = solve(eq, symbols('x'))

for s in solution:
    print("x =", s)






import sympy
from sympy import *
var('x y')

# eq = 2*x + 10*y + 4
# eq = x**2 -4
eq = x**3 - 2*x**2 - 5*x + 6
sympy.factor(eq)






digits = input("Enter a decimal number to convert: ")
exponent = int(len(digits) - 1)
n=float(digits)
numerator = int(n*10**exponent)
denominator= 10**exponent
percent=n*100
print("The decimal is ", n)
print("The fraction is  ", numerator, "/", denominator)
print("The percent is ", percent, "%")





from sympy import *
import math
var('a b c d x')
left = 0
right = a*x**2 + b*x + c
variable = x
eq1 = Eq(left, right)
sol = solve(eq1, variable)
for s in sol:
    print(variable, " = ", s)
