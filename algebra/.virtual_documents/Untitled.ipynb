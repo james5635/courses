


import matplotlib.pyplot as plt
plt.subplots()
plt.show()


import matplotlib.pyplot as plt

plt.subplot(1, 2, 1)  # 1 row, 2 columns, select 1st subplot
plt.plot([1, 2, 3], [4, 5, 6])
plt.title("First Plot")

plt.subplot(1, 2, 2)  # select 2nd subplot
plt.plot([1, 2, 3], [6, 5, 4])
plt.title("Second Plot")

plt.tight_layout()
plt.show()

