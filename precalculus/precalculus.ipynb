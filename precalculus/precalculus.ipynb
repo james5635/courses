{
 "cells": [
  {
   "cell_type": "markdown",
   "id": "a36d897b",
   "metadata": {},
   "source": [
    "# Get data From a .csv file online"
   ]
  },
  {
   "cell_type": "code",
   "execution_count": 2,
   "id": "fe926e6a",
   "metadata": {},
   "outputs": [
    {
     "data": {
      "text/html": [
       "<div>\n",
       "<style scoped>\n",
       "    .dataframe tbody tr th:only-of-type {\n",
       "        vertical-align: middle;\n",
       "    }\n",
       "\n",
       "    .dataframe tbody tr th {\n",
       "        vertical-align: top;\n",
       "    }\n",
       "\n",
       "    .dataframe thead th {\n",
       "        text-align: right;\n",
       "    }\n",
       "</style>\n",
       "<table border=\"1\" class=\"dataframe\">\n",
       "  <thead>\n",
       "    <tr style=\"text-align: right;\">\n",
       "      <th></th>\n",
       "      <th>Letter</th>\n",
       "      <th>\"Frequency\"</th>\n",
       "      <th>\"Percentage\"</th>\n",
       "    </tr>\n",
       "  </thead>\n",
       "  <tbody>\n",
       "    <tr>\n",
       "      <th>0</th>\n",
       "      <td>\"A\"</td>\n",
       "      <td>24373121</td>\n",
       "      <td>8.1</td>\n",
       "    </tr>\n",
       "    <tr>\n",
       "      <th>1</th>\n",
       "      <td>\"B\"</td>\n",
       "      <td>4762938</td>\n",
       "      <td>1.6</td>\n",
       "    </tr>\n",
       "    <tr>\n",
       "      <th>2</th>\n",
       "      <td>\"C\"</td>\n",
       "      <td>8982417</td>\n",
       "      <td>3.0</td>\n",
       "    </tr>\n",
       "    <tr>\n",
       "      <th>3</th>\n",
       "      <td>\"D\"</td>\n",
       "      <td>10805580</td>\n",
       "      <td>3.6</td>\n",
       "    </tr>\n",
       "    <tr>\n",
       "      <th>4</th>\n",
       "      <td>\"E\"</td>\n",
       "      <td>37907119</td>\n",
       "      <td>12.6</td>\n",
       "    </tr>\n",
       "  </tbody>\n",
       "</table>\n",
       "</div>"
      ],
      "text/plain": [
       "    Letter   \"Frequency\"   \"Percentage\"\n",
       "0      \"A\"      24373121            8.1\n",
       "1      \"B\"       4762938            1.6\n",
       "2      \"C\"       8982417            3.0\n",
       "3      \"D\"      10805580            3.6\n",
       "4      \"E\"      37907119           12.6"
      ]
     },
     "execution_count": 2,
     "metadata": {},
     "output_type": "execute_result"
    }
   ],
   "source": [
    "import pandas as pd\n",
    "\n",
    "# url = \"https://people.sc.fsu.edu/~jburkardt/data/csv/cities.csv\"\n",
    "# url = \"https://people.sc.fsu.edu/~jburkardt/data/csv/nile.csv\"\n",
    "url = \"https://people.sc.fsu.edu/~jburkardt/data/csv/letter_frequency.csv\"\n",
    "# url = input(\"URL of the csv: \")\n",
    "\n",
    "table_1 = pd.read_csv(url)\n",
    "# table_1\n",
    "table_1.head()\n",
    "# table_1.describe()"
   ]
  },
  {
   "cell_type": "markdown",
   "id": "348871e4",
   "metadata": {},
   "source": [
    "# From a Table on a web page"
   ]
  },
  {
   "cell_type": "code",
   "execution_count": 1,
   "id": "3a8bfafc",
   "metadata": {},
   "outputs": [
    {
     "name": "stdout",
     "output_type": "stream",
     "text": [
      "There are :  53  tables\n",
      "Take a look at the table.\n"
     ]
    },
    {
     "data": {
      "text/html": [
       "<div>\n",
       "<style scoped>\n",
       "    .dataframe tbody tr th:only-of-type {\n",
       "        vertical-align: middle;\n",
       "    }\n",
       "\n",
       "    .dataframe tbody tr th {\n",
       "        vertical-align: top;\n",
       "    }\n",
       "\n",
       "    .dataframe thead th {\n",
       "        text-align: right;\n",
       "    }\n",
       "</style>\n",
       "<table border=\"1\" class=\"dataframe\">\n",
       "  <thead>\n",
       "    <tr style=\"text-align: right;\">\n",
       "      <th></th>\n",
       "      <th>0</th>\n",
       "      <th>1</th>\n",
       "      <th>2</th>\n",
       "      <th>3</th>\n",
       "      <th>4</th>\n",
       "      <th>5</th>\n",
       "      <th>6</th>\n",
       "      <th>7</th>\n",
       "      <th>8</th>\n",
       "    </tr>\n",
       "  </thead>\n",
       "  <tbody>\n",
       "    <tr>\n",
       "      <th>0</th>\n",
       "      <td>Grover Cleveland Alexander * Dick Allen * Spar...</td>\n",
       "      <td>NaN</td>\n",
       "      <td>Steve Carlton *[144] Roger Connor Ed Delahanty...</td>\n",
       "      <td>NaN</td>\n",
       "      <td>Billy Hamilton * Bucky Harris Ferguson Jenkins...</td>\n",
       "      <td>NaN</td>\n",
       "      <td>Pedro Martínez[146] Tommy McCarthy Joe Morgan ...</td>\n",
       "      <td>NaN</td>\n",
       "      <td>Mike Schmidt *[147] Casey Stengel Jim Thome Sa...</td>\n",
       "    </tr>\n",
       "  </tbody>\n",
       "</table>\n",
       "</div>"
      ],
      "text/plain": [
       "                                                   0   1  \\\n",
       "0  Grover Cleveland Alexander * Dick Allen * Spar... NaN   \n",
       "\n",
       "                                                   2   3  \\\n",
       "0  Steve Carlton *[144] Roger Connor Ed Delahanty... NaN   \n",
       "\n",
       "                                                   4   5  \\\n",
       "0  Billy Hamilton * Bucky Harris Ferguson Jenkins... NaN   \n",
       "\n",
       "                                                   6   7  \\\n",
       "0  Pedro Martínez[146] Tommy McCarthy Joe Morgan ... NaN   \n",
       "\n",
       "                                                   8  \n",
       "0  Mike Schmidt *[147] Casey Stengel Jim Thome Sa...  "
      ]
     },
     "execution_count": 1,
     "metadata": {},
     "output_type": "execute_result"
    }
   ],
   "source": [
    "import pandas as pd\n",
    "import numpy as np\n",
    "\n",
    "URL = \"https://en.wikipedia.org/wiki/Philadelphia_Phillies\"\n",
    "tables = pd.read_html(URL)\n",
    "print(\"There are : \", len(tables), \" tables\")\n",
    "print(\"Take a look at the table.\")\n",
    "table_1 = tables[4]\n",
    "table_1"
   ]
  },
  {
   "cell_type": "code",
   "execution_count": null,
   "id": "8cd29bc6",
   "metadata": {},
   "outputs": [],
   "source": [
    "%pip install  lxml "
   ]
  },
  {
   "cell_type": "markdown",
   "id": "cb2eeebc",
   "metadata": {},
   "source": [
    "Continue the above code"
   ]
  },
  {
   "cell_type": "code",
   "execution_count": 2,
   "id": "7779cb36",
   "metadata": {},
   "outputs": [
    {
     "ename": "KeyError",
     "evalue": "'Wins'",
     "output_type": "error",
     "traceback": [
      "\u001b[31m---------------------------------------------------------------------------\u001b[39m",
      "\u001b[31mKeyError\u001b[39m                                  Traceback (most recent call last)",
      "\u001b[36mFile \u001b[39m\u001b[32m~/.pyenv/versions/3.12.11/lib/python3.12/site-packages/pandas/core/indexes/base.py:3812\u001b[39m, in \u001b[36mIndex.get_loc\u001b[39m\u001b[34m(self, key)\u001b[39m\n\u001b[32m   3811\u001b[39m \u001b[38;5;28;01mtry\u001b[39;00m:\n\u001b[32m-> \u001b[39m\u001b[32m3812\u001b[39m     \u001b[38;5;28;01mreturn\u001b[39;00m \u001b[38;5;28;43mself\u001b[39;49m\u001b[43m.\u001b[49m\u001b[43m_engine\u001b[49m\u001b[43m.\u001b[49m\u001b[43mget_loc\u001b[49m\u001b[43m(\u001b[49m\u001b[43mcasted_key\u001b[49m\u001b[43m)\u001b[49m\n\u001b[32m   3813\u001b[39m \u001b[38;5;28;01mexcept\u001b[39;00m \u001b[38;5;167;01mKeyError\u001b[39;00m \u001b[38;5;28;01mas\u001b[39;00m err:\n",
      "\u001b[36mFile \u001b[39m\u001b[32mpandas/_libs/index.pyx:167\u001b[39m, in \u001b[36mpandas._libs.index.IndexEngine.get_loc\u001b[39m\u001b[34m()\u001b[39m\n",
      "\u001b[36mFile \u001b[39m\u001b[32mpandas/_libs/index.pyx:175\u001b[39m, in \u001b[36mpandas._libs.index.IndexEngine.get_loc\u001b[39m\u001b[34m()\u001b[39m\n",
      "\u001b[36mFile \u001b[39m\u001b[32mpandas/_libs/index_class_helper.pxi:70\u001b[39m, in \u001b[36mpandas._libs.index.Int64Engine._check_type\u001b[39m\u001b[34m()\u001b[39m\n",
      "\u001b[31mKeyError\u001b[39m: 'Wins'",
      "\nThe above exception was the direct cause of the following exception:\n",
      "\u001b[31mKeyError\u001b[39m                                  Traceback (most recent call last)",
      "\u001b[36mCell\u001b[39m\u001b[36m \u001b[39m\u001b[32mIn[2]\u001b[39m\u001b[32m, line 1\u001b[39m\n\u001b[32m----> \u001b[39m\u001b[32m1\u001b[39m wins = np.array(\u001b[43mtable_1\u001b[49m\u001b[43m[\u001b[49m\u001b[33;43m\"\u001b[39;49m\u001b[33;43mWins\u001b[39;49m\u001b[33;43m\"\u001b[39;49m\u001b[43m]\u001b[49m)\n\u001b[32m      2\u001b[39m losses = np.array(table_1[\u001b[33m\"\u001b[39m\u001b[33mLosses\u001b[39m\u001b[33m\"\u001b[39m])\n\u001b[32m      3\u001b[39m avg = wins / (wins + losses)\n",
      "\u001b[36mFile \u001b[39m\u001b[32m~/.pyenv/versions/3.12.11/lib/python3.12/site-packages/pandas/core/frame.py:4107\u001b[39m, in \u001b[36mDataFrame.__getitem__\u001b[39m\u001b[34m(self, key)\u001b[39m\n\u001b[32m   4105\u001b[39m \u001b[38;5;28;01mif\u001b[39;00m \u001b[38;5;28mself\u001b[39m.columns.nlevels > \u001b[32m1\u001b[39m:\n\u001b[32m   4106\u001b[39m     \u001b[38;5;28;01mreturn\u001b[39;00m \u001b[38;5;28mself\u001b[39m._getitem_multilevel(key)\n\u001b[32m-> \u001b[39m\u001b[32m4107\u001b[39m indexer = \u001b[38;5;28;43mself\u001b[39;49m\u001b[43m.\u001b[49m\u001b[43mcolumns\u001b[49m\u001b[43m.\u001b[49m\u001b[43mget_loc\u001b[49m\u001b[43m(\u001b[49m\u001b[43mkey\u001b[49m\u001b[43m)\u001b[49m\n\u001b[32m   4108\u001b[39m \u001b[38;5;28;01mif\u001b[39;00m is_integer(indexer):\n\u001b[32m   4109\u001b[39m     indexer = [indexer]\n",
      "\u001b[36mFile \u001b[39m\u001b[32m~/.pyenv/versions/3.12.11/lib/python3.12/site-packages/pandas/core/indexes/base.py:3819\u001b[39m, in \u001b[36mIndex.get_loc\u001b[39m\u001b[34m(self, key)\u001b[39m\n\u001b[32m   3814\u001b[39m     \u001b[38;5;28;01mif\u001b[39;00m \u001b[38;5;28misinstance\u001b[39m(casted_key, \u001b[38;5;28mslice\u001b[39m) \u001b[38;5;129;01mor\u001b[39;00m (\n\u001b[32m   3815\u001b[39m         \u001b[38;5;28misinstance\u001b[39m(casted_key, abc.Iterable)\n\u001b[32m   3816\u001b[39m         \u001b[38;5;129;01mand\u001b[39;00m \u001b[38;5;28many\u001b[39m(\u001b[38;5;28misinstance\u001b[39m(x, \u001b[38;5;28mslice\u001b[39m) \u001b[38;5;28;01mfor\u001b[39;00m x \u001b[38;5;129;01min\u001b[39;00m casted_key)\n\u001b[32m   3817\u001b[39m     ):\n\u001b[32m   3818\u001b[39m         \u001b[38;5;28;01mraise\u001b[39;00m InvalidIndexError(key)\n\u001b[32m-> \u001b[39m\u001b[32m3819\u001b[39m     \u001b[38;5;28;01mraise\u001b[39;00m \u001b[38;5;167;01mKeyError\u001b[39;00m(key) \u001b[38;5;28;01mfrom\u001b[39;00m\u001b[38;5;250m \u001b[39m\u001b[34;01merr\u001b[39;00m\n\u001b[32m   3820\u001b[39m \u001b[38;5;28;01mexcept\u001b[39;00m \u001b[38;5;167;01mTypeError\u001b[39;00m:\n\u001b[32m   3821\u001b[39m     \u001b[38;5;66;03m# If we have a listlike key, _check_indexing_error will raise\u001b[39;00m\n\u001b[32m   3822\u001b[39m     \u001b[38;5;66;03m#  InvalidIndexError. Otherwise we fall through and re-raise\u001b[39;00m\n\u001b[32m   3823\u001b[39m     \u001b[38;5;66;03m#  the TypeError.\u001b[39;00m\n\u001b[32m   3824\u001b[39m     \u001b[38;5;28mself\u001b[39m._check_indexing_error(key)\n",
      "\u001b[31mKeyError\u001b[39m: 'Wins'"
     ]
    }
   ],
   "source": [
    "wins = np.array(table_1[\"Wins\"])\n",
    "losses = np.array(table_1[\"Losses\"])\n",
    "avg = wins / (wins + losses)\n",
    "table_1[\"Average\"] = avg\n",
    "print(table_1[\"Manager\", \"WPct\"])"
   ]
  },
  {
   "cell_type": "markdown",
   "id": "9a4f92d5",
   "metadata": {},
   "source": [
    "Another example with tides"
   ]
  },
  {
   "cell_type": "code",
   "execution_count": 1,
   "id": "235a0d7f",
   "metadata": {},
   "outputs": [
    {
     "name": "stdout",
     "output_type": "stream",
     "text": [
      "There are :  1  tables\n",
      "Take look at the table:\n"
     ]
    },
    {
     "data": {
      "text/html": [
       "<div>\n",
       "<style scoped>\n",
       "    .dataframe tbody tr th:only-of-type {\n",
       "        vertical-align: middle;\n",
       "    }\n",
       "\n",
       "    .dataframe tbody tr th {\n",
       "        vertical-align: top;\n",
       "    }\n",
       "\n",
       "    .dataframe thead th {\n",
       "        text-align: right;\n",
       "    }\n",
       "</style>\n",
       "<table border=\"1\" class=\"dataframe\">\n",
       "  <thead>\n",
       "    <tr style=\"text-align: right;\">\n",
       "      <th></th>\n",
       "      <th>Date</th>\n",
       "      <th>Time</th>\n",
       "      <th>Feet</th>\n",
       "      <th>Tide</th>\n",
       "    </tr>\n",
       "  </thead>\n",
       "  <tbody>\n",
       "    <tr>\n",
       "      <th>0</th>\n",
       "      <td>Mon Aug 11</td>\n",
       "      <td>4:29am</td>\n",
       "      <td>-0.15 ft</td>\n",
       "      <td>Low Tide</td>\n",
       "    </tr>\n",
       "    <tr>\n",
       "      <th>1</th>\n",
       "      <td>Mon Aug 11</td>\n",
       "      <td>10:40am</td>\n",
       "      <td>5.21 ft</td>\n",
       "      <td>High Tide</td>\n",
       "    </tr>\n",
       "    <tr>\n",
       "      <th>2</th>\n",
       "      <td>Mon Aug 11</td>\n",
       "      <td>4:38pm</td>\n",
       "      <td>-0.07 ft</td>\n",
       "      <td>Low Tide</td>\n",
       "    </tr>\n",
       "    <tr>\n",
       "      <th>3</th>\n",
       "      <td>Mon Aug 11</td>\n",
       "      <td>11:00pm</td>\n",
       "      <td>5.90 ft</td>\n",
       "      <td>High Tide</td>\n",
       "    </tr>\n",
       "    <tr>\n",
       "      <th>4</th>\n",
       "      <td>Tue Aug 12</td>\n",
       "      <td>5:10am</td>\n",
       "      <td>-0.22 ft</td>\n",
       "      <td>Low Tide</td>\n",
       "    </tr>\n",
       "  </tbody>\n",
       "</table>\n",
       "</div>"
      ],
      "text/plain": [
       "         Date     Time      Feet       Tide\n",
       "0  Mon Aug 11   4:29am  -0.15 ft   Low Tide\n",
       "1  Mon Aug 11  10:40am   5.21 ft  High Tide\n",
       "2  Mon Aug 11   4:38pm  -0.07 ft   Low Tide\n",
       "3  Mon Aug 11  11:00pm   5.90 ft  High Tide\n",
       "4  Tue Aug 12   5:10am  -0.22 ft   Low Tide"
      ]
     },
     "execution_count": 1,
     "metadata": {},
     "output_type": "execute_result"
    }
   ],
   "source": [
    "import pandas as pd\n",
    "import numpy as np\n",
    "from datetime import datetime\n",
    "import calendar\n",
    "URL = \"https://marineweather.net/tide/cape-may-canal-cape-may-delaware-bay-nj-tides\"\n",
    "tables = pd.read_html(URL)\n",
    "print(\"There are : \", len(tables), \" tables\")\n",
    "print(\"Take look at the table:\")\n",
    "table_1 = tables[0]\n",
    "# print(table_1)\n",
    "table_1.head()\n"
   ]
  },
  {
   "cell_type": "markdown",
   "id": "a6619713",
   "metadata": {},
   "source": [
    "Contonuing the tide example"
   ]
  },
  {
   "cell_type": "code",
   "execution_count": 13,
   "id": "21045b8c",
   "metadata": {},
   "outputs": [
    {
     "name": "stdout",
     "output_type": "stream",
     "text": [
      "[1691728140, 1691750400, 1691768280, 1691791200, 1691817000, 1691839500, 1691857620, 1691880360, 1691905980, 1691968320, 1691947200, 1692016440, 1691995140, 1692014580, 1692037020, 1692062820, 1692084540, 1692104340, 1692127200, 1692152700, 1692174300, 1692194460, 1692217680, 1692243000, 1692264420, 1692284820, 1692308400, 1692333600, 1692354780, 1692375360, 1692399000, 1692424140, 1692445140, 1692465660, 1692536040, 1692514380, 1692574920, 1692555600, 1692582540, 1692604140, 1692621540, 1692645120, 1692671820, 1692693480, 1692711000, 1692734280, 1692760740, 1692782580, 1692800220, 1692823200, 1692849420, 1692871440, 1692889260, 1692912000, 1692937980, 1692960180, 1692978240, 1693000680, 1693026420, 1693048860, 1693067100, 1693089300, 1693114860, 1693137540, 1693156020, 1693224840, 1693203420, 1693265880, 1693245120, 1693313640, 1693292100, 1693311720, 1693334460, 1693359540, 1693381140, 1693401000, 1693424040, 1693449000, 1693470480, 1693490640, 1693513980]\n",
      "[-0.1, 5.21, -0.0, 5.9, -0.2, 5.41, -0.0, 5.67, -0.2, 5.55, 0.11, 5.34, -0.1, 5.61, 0.3, 4.97, 0.05, 5.61, 0.49, 4.61, 0.23, 5.57, 0.64, 4.34, 0.37, 5.55, 0.69, 4.22, 0.44, 5.6, 0.63, 4.26, 0.4, 5.71, 0.49, 4.43, 0.3, 5.84, 0.33, 4.65, 0.19, 5.91, 0.2, 4.85, 0.11, 5.91, 0.14, 5.01, 0.1, 5.8, 0.14, 5.12, 0.16, 5.61, 0.21, 5.17, 0.29, 5.36, 0.33, 5.17, 0.45, 5.05, 0.49, 5.13, 0.65, 4.73, 0.67, 5.06, 0.86, 4.41, 0.85, 4.97, 1.06, 4.12, 1.02, 4.89, 1.22, 3.89, 1.13, 4.85, 1.3]\n"
     ]
    }
   ],
   "source": [
    "\n",
    "\n",
    "time_list: \"pd.Series[str]\" = table_1[\"Time\"]\n",
    "date_list: \"pd.Series[str]\" = table_1[\"Date\"]\n",
    "h_array = []\n",
    "m_array = []\n",
    "d_array = []\n",
    "epoch_array = []\n",
    "\n",
    "\n",
    "for t in time_list:\n",
    "    a = t.split(\":\")\n",
    "    hour = int(a[0])\n",
    "    b = a[1]\n",
    "    min = int(b[0:2])\n",
    "    if b[-2:] == \"pm\":\n",
    "        hour = hour + 11\n",
    "    h_array.append(hour)\n",
    "    m_array.append(min)\n",
    "for d in date_list:\n",
    "    d_array.append(int(d[8::]))\n",
    "for c in range(len(time_list)):\n",
    "    t = datetime(2023, 8, d_array[c], h_array[c], m_array[c], 0)\n",
    "    epoch_array.append(int(calendar.timegm(t.timetuple())))\n",
    "print(epoch_array)\n",
    "height_list = table_1[\"Feet\"]\n",
    "f_array = []\n",
    "for f in height_list:\n",
    "    f_array.append(float(f[0:4]))\n",
    "print(f_array)"
   ]
  },
  {
   "cell_type": "markdown",
   "id": "282c5cb8",
   "metadata": {},
   "source": [
    "Simple example"
   ]
  },
  {
   "cell_type": "code",
   "execution_count": null,
   "id": "410ccbd7",
   "metadata": {},
   "outputs": [
    {
     "name": "stdout",
     "output_type": "stream",
     "text": [
      "<class 'int'>\n"
     ]
    }
   ],
   "source": [
    "# \n",
    "from typing import Literal\n",
    "\n",
    "\n",
    "x: list[int] = [1,2]\n",
    "x[0] = \"a\"\n",
    "def a():\n",
    "    global x\n",
    "    x = 2\n",
    "print(type(x))"
   ]
  }
 ],
 "metadata": {
  "kernelspec": {
   "display_name": "3.12.11",
   "language": "python",
   "name": "python3"
  },
  "language_info": {
   "codemirror_mode": {
    "name": "ipython",
    "version": 3
   },
   "file_extension": ".py",
   "mimetype": "text/x-python",
   "name": "python",
   "nbconvert_exporter": "python",
   "pygments_lexer": "ipython3",
   "version": "3.12.11"
  }
 },
 "nbformat": 4,
 "nbformat_minor": 5
}
